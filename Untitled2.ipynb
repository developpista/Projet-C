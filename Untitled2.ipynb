{
 "cells": [
  {
   "cell_type": "code",
   "execution_count": 1,
   "id": "0bbc0f37",
   "metadata": {},
   "outputs": [],
   "source": [
    "import pandas as pd\n",
    "import numpy as np\n",
    "import matplotlib.pyplot as plt"
   ]
  },
  {
   "cell_type": "code",
   "execution_count": 46,
   "id": "3530a5a0",
   "metadata": {},
   "outputs": [
    {
     "data": {
      "text/html": [
       "<div>\n",
       "<style scoped>\n",
       "    .dataframe tbody tr th:only-of-type {\n",
       "        vertical-align: middle;\n",
       "    }\n",
       "\n",
       "    .dataframe tbody tr th {\n",
       "        vertical-align: top;\n",
       "    }\n",
       "\n",
       "    .dataframe thead th {\n",
       "        text-align: right;\n",
       "    }\n",
       "</style>\n",
       "<table border=\"1\" class=\"dataframe\">\n",
       "  <thead>\n",
       "    <tr style=\"text-align: right;\">\n",
       "      <th></th>\n",
       "      <th>DateTime</th>\n",
       "      <th>MixProdElec</th>\n",
       "    </tr>\n",
       "  </thead>\n",
       "  <tbody>\n",
       "    <tr>\n",
       "      <th>0</th>\n",
       "      <td>2019-01-01 00:00:00</td>\n",
       "      <td>Normal</td>\n",
       "    </tr>\n",
       "    <tr>\n",
       "      <th>1</th>\n",
       "      <td>2019-01-01 00:30:00</td>\n",
       "      <td>Normal</td>\n",
       "    </tr>\n",
       "    <tr>\n",
       "      <th>2</th>\n",
       "      <td>2019-01-01 01:00:00</td>\n",
       "      <td>Normal</td>\n",
       "    </tr>\n",
       "    <tr>\n",
       "      <th>3</th>\n",
       "      <td>2019-01-01 01:30:00</td>\n",
       "      <td>Normal</td>\n",
       "    </tr>\n",
       "    <tr>\n",
       "      <th>4</th>\n",
       "      <td>2019-01-01 02:00:00</td>\n",
       "      <td>Normal</td>\n",
       "    </tr>\n",
       "    <tr>\n",
       "      <th>...</th>\n",
       "      <td>...</td>\n",
       "      <td>...</td>\n",
       "    </tr>\n",
       "    <tr>\n",
       "      <th>35035</th>\n",
       "      <td>2021-12-31 21:30:00</td>\n",
       "      <td>Normal</td>\n",
       "    </tr>\n",
       "    <tr>\n",
       "      <th>35036</th>\n",
       "      <td>2021-12-31 22:00:00</td>\n",
       "      <td>Normal</td>\n",
       "    </tr>\n",
       "    <tr>\n",
       "      <th>35037</th>\n",
       "      <td>2021-12-31 22:30:00</td>\n",
       "      <td>Normal</td>\n",
       "    </tr>\n",
       "    <tr>\n",
       "      <th>35038</th>\n",
       "      <td>2021-12-31 23:00:00</td>\n",
       "      <td>Normal</td>\n",
       "    </tr>\n",
       "    <tr>\n",
       "      <th>35039</th>\n",
       "      <td>2021-12-31 23:30:00</td>\n",
       "      <td>Normal</td>\n",
       "    </tr>\n",
       "  </tbody>\n",
       "</table>\n",
       "<p>35040 rows × 2 columns</p>\n",
       "</div>"
      ],
      "text/plain": [
       "                  DateTime MixProdElec\n",
       "0      2019-01-01 00:00:00      Normal\n",
       "1      2019-01-01 00:30:00      Normal\n",
       "2      2019-01-01 01:00:00      Normal\n",
       "3      2019-01-01 01:30:00      Normal\n",
       "4      2019-01-01 02:00:00      Normal\n",
       "...                    ...         ...\n",
       "35035  2021-12-31 21:30:00      Normal\n",
       "35036  2021-12-31 22:00:00      Normal\n",
       "35037  2021-12-31 22:30:00      Normal\n",
       "35038  2021-12-31 23:00:00      Normal\n",
       "35039  2021-12-31 23:30:00      Normal\n",
       "\n",
       "[35040 rows x 2 columns]"
      ]
     },
     "execution_count": 46,
     "metadata": {},
     "output_type": "execute_result"
    }
   ],
   "source": [
    "data2=pd.read_csv(\"benchmark.csv\")\n",
    "data2\n",
    "data2=pd.read_csv('benchmark.csv')"
   ]
  },
  {
   "cell_type": "code",
   "execution_count": 5,
   "id": "2562ad0d",
   "metadata": {},
   "outputs": [
    {
     "data": {
      "text/plain": [
       "array([ True,  True,  True, ..., False, False, False])"
      ]
     },
     "execution_count": 5,
     "metadata": {},
     "output_type": "execute_result"
    }
   ],
   "source": [
    "VZC=data2['VacancesZoneC'].to_numpy()\n",
    "VZC"
   ]
  },
  {
   "cell_type": "code",
   "execution_count": 6,
   "id": "98d5bbb2",
   "metadata": {},
   "outputs": [],
   "source": [
    "MixProdElec=data2['MixProdElec'].to_numpy()"
   ]
  },
  {
   "cell_type": "code",
   "execution_count": 8,
   "id": "375d92c6",
   "metadata": {},
   "outputs": [
    {
     "data": {
      "text/html": [
       "<div>\n",
       "<style scoped>\n",
       "    .dataframe tbody tr th:only-of-type {\n",
       "        vertical-align: middle;\n",
       "    }\n",
       "\n",
       "    .dataframe tbody tr th {\n",
       "        vertical-align: top;\n",
       "    }\n",
       "\n",
       "    .dataframe thead th {\n",
       "        text-align: right;\n",
       "    }\n",
       "</style>\n",
       "<table border=\"1\" class=\"dataframe\">\n",
       "  <thead>\n",
       "    <tr style=\"text-align: right;\">\n",
       "      <th>col_0</th>\n",
       "      <th>False</th>\n",
       "      <th>True</th>\n",
       "    </tr>\n",
       "    <tr>\n",
       "      <th>row_0</th>\n",
       "      <th></th>\n",
       "      <th></th>\n",
       "    </tr>\n",
       "  </thead>\n",
       "  <tbody>\n",
       "    <tr>\n",
       "      <th>Carbonne</th>\n",
       "      <td>26696</td>\n",
       "      <td>8636</td>\n",
       "    </tr>\n",
       "    <tr>\n",
       "      <th>Decarbonne</th>\n",
       "      <td>17942</td>\n",
       "      <td>10231</td>\n",
       "    </tr>\n",
       "    <tr>\n",
       "      <th>Normal</th>\n",
       "      <td>20339</td>\n",
       "      <td>12141</td>\n",
       "    </tr>\n",
       "  </tbody>\n",
       "</table>\n",
       "</div>"
      ],
      "text/plain": [
       "col_0       False   True\n",
       "row_0                   \n",
       "Carbonne    26696   8636\n",
       "Decarbonne  17942  10231\n",
       "Normal      20339  12141"
      ]
     },
     "execution_count": 8,
     "metadata": {},
     "output_type": "execute_result"
    }
   ],
   "source": [
    "tab=pd.crosstab(MixProdElec,VZC)\n",
    "tab"
   ]
  },
  {
   "cell_type": "code",
   "execution_count": 13,
   "id": "b36743b5",
   "metadata": {},
   "outputs": [
    {
     "data": {
      "text/plain": [
       "0.36809918216387977"
      ]
     },
     "execution_count": 13,
     "metadata": {},
     "output_type": "execute_result"
    }
   ],
   "source": [
    "n=len(MixProdElec)\n",
    "p_carbonne=np.sum(tab.iloc[0])/n\n",
    "p_carbonne"
   ]
  },
  {
   "cell_type": "code",
   "execution_count": 14,
   "id": "2b00ba5d",
   "metadata": {},
   "outputs": [
    {
     "data": {
      "text/plain": [
       "0.2935146116580716"
      ]
     },
     "execution_count": 14,
     "metadata": {},
     "output_type": "execute_result"
    }
   ],
   "source": [
    "p_decarbonne=np.sum(tab.iloc[1])/n\n",
    "p_decarbonne"
   ]
  },
  {
   "cell_type": "code",
   "execution_count": 15,
   "id": "8432a3a4",
   "metadata": {},
   "outputs": [
    {
     "data": {
      "text/plain": [
       "0.33838620617804865"
      ]
     },
     "execution_count": 15,
     "metadata": {},
     "output_type": "execute_result"
    }
   ],
   "source": [
    "p_normal=np.sum(tab.iloc[2])/n\n",
    "p_normal"
   ]
  },
  {
   "cell_type": "code",
   "execution_count": 17,
   "id": "e74abb50",
   "metadata": {},
   "outputs": [
    {
     "data": {
      "text/plain": [
       "0.36314911440031233"
      ]
     },
     "execution_count": 17,
     "metadata": {},
     "output_type": "execute_result"
    }
   ],
   "source": [
    "PXTrueYDecarbonne=len(data2[(data2['VacancesZoneC']== True) & (data2['MixProdElec']=='Decarbonne')])/len(data2[data2['MixProdElec']=='Decarbonne']) \n",
    "PXTrueYDecarbonne"
   ]
  },
  {
   "cell_type": "code",
   "execution_count": 18,
   "id": "bc1599b3",
   "metadata": {},
   "outputs": [
    {
     "data": {
      "text/plain": [
       "0.6368508855996876"
      ]
     },
     "execution_count": 18,
     "metadata": {},
     "output_type": "execute_result"
    }
   ],
   "source": [
    "PXFalseYDecarbonne=len(data2[(data2['VacancesZoneC']== False) & (data2['MixProdElec']=='Decarbonne')])/len(data2[data2['MixProdElec']=='Decarbonne'])\n",
    "PXFalseYDecarbonne"
   ]
  },
  {
   "cell_type": "code",
   "execution_count": 22,
   "id": "565545b3",
   "metadata": {},
   "outputs": [
    {
     "data": {
      "text/plain": [
       "0.37379926108374384"
      ]
     },
     "execution_count": 22,
     "metadata": {},
     "output_type": "execute_result"
    }
   ],
   "source": [
    "PXTrueYNormal=len(data2[(data2['VacancesZoneC']== True) & (data2['MixProdElec']=='Normal')])/len(data2[data2['MixProdElec']=='Normal'])\n",
    "PXTrueYNormal"
   ]
  },
  {
   "cell_type": "code",
   "execution_count": 21,
   "id": "8866b436",
   "metadata": {},
   "outputs": [
    {
     "data": {
      "text/plain": [
       "0.6262007389162562"
      ]
     },
     "execution_count": 21,
     "metadata": {},
     "output_type": "execute_result"
    }
   ],
   "source": [
    "PXFalseYNormal=len(data2[(data2['VacancesZoneC']== False) & (data2['MixProdElec']=='Normal')])/len(data2[data2['MixProdElec']=='Normal'])\n",
    "PXFalseYNormal"
   ]
  },
  {
   "cell_type": "code",
   "execution_count": 20,
   "id": "6dfd1c1f",
   "metadata": {},
   "outputs": [
    {
     "data": {
      "text/plain": [
       "0.24442431789878863"
      ]
     },
     "execution_count": 20,
     "metadata": {},
     "output_type": "execute_result"
    }
   ],
   "source": [
    "PXTrueYCarbonne=len(data2[(data2['VacancesZoneC']== True) & (data2['MixProdElec']=='Carbonne')])/len(data2[data2['MixProdElec']=='Carbonne'])\n",
    "PXTrueYCarbonne"
   ]
  },
  {
   "cell_type": "code",
   "execution_count": 19,
   "id": "fc774c13",
   "metadata": {},
   "outputs": [
    {
     "data": {
      "text/plain": [
       "0.7555756821012114"
      ]
     },
     "execution_count": 19,
     "metadata": {},
     "output_type": "execute_result"
    }
   ],
   "source": [
    "PXFalseYCarbonne=len(data2[(data2['VacancesZoneC']== False) & (data2['MixProdElec']=='Carbonne')])/len(data2[data2['MixProdElec']=='Carbonne'])\n",
    "PXFalseYCarbonne"
   ]
  },
  {
   "cell_type": "code",
   "execution_count": 24,
   "id": "3cf6fc82",
   "metadata": {},
   "outputs": [
    {
     "data": {
      "text/plain": [
       "(0.08997239151950825, 0.10658957128718029, 0.12648851383028598)"
      ]
     },
     "execution_count": 24,
     "metadata": {},
     "output_type": "execute_result"
    }
   ],
   "source": [
    "p_carbonne*PXTrueYCarbonne,p_decarbonne*PXTrueYDecarbonne,p_normal*PXTrueYNormal"
   ]
  },
  {
   "cell_type": "code",
   "execution_count": 26,
   "id": "cfc1d668",
   "metadata": {},
   "outputs": [
    {
     "data": {
      "text/plain": [
       "0.12648851383028598"
      ]
     },
     "execution_count": 26,
     "metadata": {},
     "output_type": "execute_result"
    }
   ],
   "source": [
    "max(p_carbonne*PXTrueYCarbonne,p_decarbonne*PXTrueYDecarbonne,p_normal*PXTrueYNormal)"
   ]
  },
  {
   "cell_type": "code",
   "execution_count": 27,
   "id": "e84adc0b",
   "metadata": {},
   "outputs": [],
   "source": [
    "#Le classificateur de Bayes pour xj=True est: Normal car il a la probabilité la plus élevée(le max correspond à la valeur \n",
    "#de Normal)"
   ]
  },
  {
   "cell_type": "code",
   "execution_count": 29,
   "id": "bdc8dca5",
   "metadata": {},
   "outputs": [
    {
     "data": {
      "text/plain": [
       "(0.2781267906443715, 0.18692504037089128, 0.21189769234776268)"
      ]
     },
     "execution_count": 29,
     "metadata": {},
     "output_type": "execute_result"
    }
   ],
   "source": [
    "p_carbonne*PXFalseYCarbonne,p_decarbonne*PXFalseYDecarbonne,p_normal*PXFalseYNormal"
   ]
  },
  {
   "cell_type": "code",
   "execution_count": 30,
   "id": "fbacbb32",
   "metadata": {},
   "outputs": [
    {
     "data": {
      "text/plain": [
       "0.2781267906443715"
      ]
     },
     "execution_count": 30,
     "metadata": {},
     "output_type": "execute_result"
    }
   ],
   "source": [
    "max(p_carbonne*PXFalseYCarbonne,p_decarbonne*PXFalseYDecarbonne,p_normal*PXFalseYNormal)"
   ]
  },
  {
   "cell_type": "code",
   "execution_count": 31,
   "id": "2c14addf",
   "metadata": {},
   "outputs": [],
   "source": [
    "#Le classificateur de Bayes pour xj=False est: Carbonne car il a la probabilité la plus élevée(le max correspond à la valeur \n",
    "#de Carbonne"
   ]
  },
  {
   "cell_type": "code",
   "execution_count": null,
   "id": "dc5a960f",
   "metadata": {},
   "outputs": [],
   "source": []
  },
  {
   "cell_type": "code",
   "execution_count": 32,
   "id": "f6979609",
   "metadata": {},
   "outputs": [],
   "source": [
    "data=pd.read_csv(\"prev.csv\")"
   ]
  },
  {
   "cell_type": "code",
   "execution_count": 34,
   "id": "450f3a84",
   "metadata": {},
   "outputs": [
    {
     "data": {
      "text/html": [
       "<div>\n",
       "<style scoped>\n",
       "    .dataframe tbody tr th:only-of-type {\n",
       "        vertical-align: middle;\n",
       "    }\n",
       "\n",
       "    .dataframe tbody tr th {\n",
       "        vertical-align: top;\n",
       "    }\n",
       "\n",
       "    .dataframe thead th {\n",
       "        text-align: right;\n",
       "    }\n",
       "</style>\n",
       "<table border=\"1\" class=\"dataframe\">\n",
       "  <thead>\n",
       "    <tr style=\"text-align: right;\">\n",
       "      <th></th>\n",
       "      <th>DateTime</th>\n",
       "      <th>PositionDansAnnee</th>\n",
       "      <th>Annee</th>\n",
       "      <th>Mois</th>\n",
       "      <th>DemiHeure</th>\n",
       "      <th>Jour</th>\n",
       "      <th>JourFerie</th>\n",
       "      <th>JourFerieType</th>\n",
       "      <th>VacancesZoneA</th>\n",
       "      <th>VacancesZoneB</th>\n",
       "      <th>VacancesZoneC</th>\n",
       "      <th>Temperature</th>\n",
       "      <th>Nebulosity</th>\n",
       "      <th>Humidity</th>\n",
       "      <th>WindSpeed</th>\n",
       "      <th>Precipitation</th>\n",
       "    </tr>\n",
       "  </thead>\n",
       "  <tbody>\n",
       "    <tr>\n",
       "      <th>0</th>\n",
       "      <td>2019-01-01 00:00:00</td>\n",
       "      <td>0.000000</td>\n",
       "      <td>2019</td>\n",
       "      <td>janvier</td>\n",
       "      <td>0</td>\n",
       "      <td>mardi</td>\n",
       "      <td>True</td>\n",
       "      <td>1janvier</td>\n",
       "      <td>True</td>\n",
       "      <td>True</td>\n",
       "      <td>True</td>\n",
       "      <td>5.948718</td>\n",
       "      <td>96.000000</td>\n",
       "      <td>87.641026</td>\n",
       "      <td>2.535897</td>\n",
       "      <td>-0.007692</td>\n",
       "    </tr>\n",
       "    <tr>\n",
       "      <th>1</th>\n",
       "      <td>2019-01-01 00:30:00</td>\n",
       "      <td>0.000057</td>\n",
       "      <td>2019</td>\n",
       "      <td>janvier</td>\n",
       "      <td>1</td>\n",
       "      <td>mardi</td>\n",
       "      <td>True</td>\n",
       "      <td>1janvier</td>\n",
       "      <td>True</td>\n",
       "      <td>True</td>\n",
       "      <td>True</td>\n",
       "      <td>5.885043</td>\n",
       "      <td>96.230769</td>\n",
       "      <td>87.722222</td>\n",
       "      <td>2.571795</td>\n",
       "      <td>-0.008120</td>\n",
       "    </tr>\n",
       "    <tr>\n",
       "      <th>2</th>\n",
       "      <td>2019-01-01 01:00:00</td>\n",
       "      <td>0.000114</td>\n",
       "      <td>2019</td>\n",
       "      <td>janvier</td>\n",
       "      <td>2</td>\n",
       "      <td>mardi</td>\n",
       "      <td>True</td>\n",
       "      <td>1janvier</td>\n",
       "      <td>True</td>\n",
       "      <td>True</td>\n",
       "      <td>True</td>\n",
       "      <td>5.821368</td>\n",
       "      <td>96.461538</td>\n",
       "      <td>87.803419</td>\n",
       "      <td>2.607692</td>\n",
       "      <td>-0.008547</td>\n",
       "    </tr>\n",
       "    <tr>\n",
       "      <th>3</th>\n",
       "      <td>2019-01-01 01:30:00</td>\n",
       "      <td>0.000171</td>\n",
       "      <td>2019</td>\n",
       "      <td>janvier</td>\n",
       "      <td>3</td>\n",
       "      <td>mardi</td>\n",
       "      <td>True</td>\n",
       "      <td>1janvier</td>\n",
       "      <td>True</td>\n",
       "      <td>True</td>\n",
       "      <td>True</td>\n",
       "      <td>5.757692</td>\n",
       "      <td>96.692308</td>\n",
       "      <td>87.884615</td>\n",
       "      <td>2.643590</td>\n",
       "      <td>-0.008974</td>\n",
       "    </tr>\n",
       "    <tr>\n",
       "      <th>4</th>\n",
       "      <td>2019-01-01 02:00:00</td>\n",
       "      <td>0.000228</td>\n",
       "      <td>2019</td>\n",
       "      <td>janvier</td>\n",
       "      <td>4</td>\n",
       "      <td>mardi</td>\n",
       "      <td>True</td>\n",
       "      <td>1janvier</td>\n",
       "      <td>True</td>\n",
       "      <td>True</td>\n",
       "      <td>True</td>\n",
       "      <td>5.694017</td>\n",
       "      <td>96.923077</td>\n",
       "      <td>87.965812</td>\n",
       "      <td>2.679487</td>\n",
       "      <td>-0.009402</td>\n",
       "    </tr>\n",
       "    <tr>\n",
       "      <th>...</th>\n",
       "      <td>...</td>\n",
       "      <td>...</td>\n",
       "      <td>...</td>\n",
       "      <td>...</td>\n",
       "      <td>...</td>\n",
       "      <td>...</td>\n",
       "      <td>...</td>\n",
       "      <td>...</td>\n",
       "      <td>...</td>\n",
       "      <td>...</td>\n",
       "      <td>...</td>\n",
       "      <td>...</td>\n",
       "      <td>...</td>\n",
       "      <td>...</td>\n",
       "      <td>...</td>\n",
       "      <td>...</td>\n",
       "    </tr>\n",
       "    <tr>\n",
       "      <th>35035</th>\n",
       "      <td>2021-12-31 21:30:00</td>\n",
       "      <td>0.999772</td>\n",
       "      <td>2021</td>\n",
       "      <td>décembre</td>\n",
       "      <td>43</td>\n",
       "      <td>vendredi</td>\n",
       "      <td>False</td>\n",
       "      <td>nonFerie</td>\n",
       "      <td>True</td>\n",
       "      <td>True</td>\n",
       "      <td>True</td>\n",
       "      <td>8.738816</td>\n",
       "      <td>87.303807</td>\n",
       "      <td>90.482456</td>\n",
       "      <td>3.105662</td>\n",
       "      <td>0.039474</td>\n",
       "    </tr>\n",
       "    <tr>\n",
       "      <th>35036</th>\n",
       "      <td>2021-12-31 22:00:00</td>\n",
       "      <td>0.999829</td>\n",
       "      <td>2021</td>\n",
       "      <td>décembre</td>\n",
       "      <td>44</td>\n",
       "      <td>vendredi</td>\n",
       "      <td>False</td>\n",
       "      <td>nonFerie</td>\n",
       "      <td>True</td>\n",
       "      <td>True</td>\n",
       "      <td>True</td>\n",
       "      <td>8.694737</td>\n",
       "      <td>87.227661</td>\n",
       "      <td>90.501754</td>\n",
       "      <td>3.079915</td>\n",
       "      <td>0.032632</td>\n",
       "    </tr>\n",
       "    <tr>\n",
       "      <th>35037</th>\n",
       "      <td>2021-12-31 22:30:00</td>\n",
       "      <td>0.999886</td>\n",
       "      <td>2021</td>\n",
       "      <td>décembre</td>\n",
       "      <td>45</td>\n",
       "      <td>vendredi</td>\n",
       "      <td>False</td>\n",
       "      <td>nonFerie</td>\n",
       "      <td>True</td>\n",
       "      <td>True</td>\n",
       "      <td>True</td>\n",
       "      <td>8.650658</td>\n",
       "      <td>87.151515</td>\n",
       "      <td>90.521053</td>\n",
       "      <td>3.054167</td>\n",
       "      <td>0.025789</td>\n",
       "    </tr>\n",
       "    <tr>\n",
       "      <th>35038</th>\n",
       "      <td>2021-12-31 23:00:00</td>\n",
       "      <td>0.999943</td>\n",
       "      <td>2021</td>\n",
       "      <td>décembre</td>\n",
       "      <td>46</td>\n",
       "      <td>vendredi</td>\n",
       "      <td>False</td>\n",
       "      <td>nonFerie</td>\n",
       "      <td>True</td>\n",
       "      <td>True</td>\n",
       "      <td>True</td>\n",
       "      <td>8.606579</td>\n",
       "      <td>87.075369</td>\n",
       "      <td>90.540351</td>\n",
       "      <td>3.028419</td>\n",
       "      <td>0.018947</td>\n",
       "    </tr>\n",
       "    <tr>\n",
       "      <th>35039</th>\n",
       "      <td>2021-12-31 23:30:00</td>\n",
       "      <td>1.000000</td>\n",
       "      <td>2021</td>\n",
       "      <td>décembre</td>\n",
       "      <td>47</td>\n",
       "      <td>vendredi</td>\n",
       "      <td>False</td>\n",
       "      <td>nonFerie</td>\n",
       "      <td>True</td>\n",
       "      <td>True</td>\n",
       "      <td>True</td>\n",
       "      <td>8.562500</td>\n",
       "      <td>86.999223</td>\n",
       "      <td>90.559649</td>\n",
       "      <td>3.002671</td>\n",
       "      <td>0.012105</td>\n",
       "    </tr>\n",
       "  </tbody>\n",
       "</table>\n",
       "<p>35040 rows × 16 columns</p>\n",
       "</div>"
      ],
      "text/plain": [
       "                  DateTime  PositionDansAnnee  Annee      Mois  DemiHeure  \\\n",
       "0      2019-01-01 00:00:00           0.000000   2019   janvier          0   \n",
       "1      2019-01-01 00:30:00           0.000057   2019   janvier          1   \n",
       "2      2019-01-01 01:00:00           0.000114   2019   janvier          2   \n",
       "3      2019-01-01 01:30:00           0.000171   2019   janvier          3   \n",
       "4      2019-01-01 02:00:00           0.000228   2019   janvier          4   \n",
       "...                    ...                ...    ...       ...        ...   \n",
       "35035  2021-12-31 21:30:00           0.999772   2021  décembre         43   \n",
       "35036  2021-12-31 22:00:00           0.999829   2021  décembre         44   \n",
       "35037  2021-12-31 22:30:00           0.999886   2021  décembre         45   \n",
       "35038  2021-12-31 23:00:00           0.999943   2021  décembre         46   \n",
       "35039  2021-12-31 23:30:00           1.000000   2021  décembre         47   \n",
       "\n",
       "           Jour  JourFerie JourFerieType  VacancesZoneA  VacancesZoneB  \\\n",
       "0         mardi       True      1janvier           True           True   \n",
       "1         mardi       True      1janvier           True           True   \n",
       "2         mardi       True      1janvier           True           True   \n",
       "3         mardi       True      1janvier           True           True   \n",
       "4         mardi       True      1janvier           True           True   \n",
       "...         ...        ...           ...            ...            ...   \n",
       "35035  vendredi      False      nonFerie           True           True   \n",
       "35036  vendredi      False      nonFerie           True           True   \n",
       "35037  vendredi      False      nonFerie           True           True   \n",
       "35038  vendredi      False      nonFerie           True           True   \n",
       "35039  vendredi      False      nonFerie           True           True   \n",
       "\n",
       "       VacancesZoneC  Temperature  Nebulosity   Humidity  WindSpeed  \\\n",
       "0               True     5.948718   96.000000  87.641026   2.535897   \n",
       "1               True     5.885043   96.230769  87.722222   2.571795   \n",
       "2               True     5.821368   96.461538  87.803419   2.607692   \n",
       "3               True     5.757692   96.692308  87.884615   2.643590   \n",
       "4               True     5.694017   96.923077  87.965812   2.679487   \n",
       "...              ...          ...         ...        ...        ...   \n",
       "35035           True     8.738816   87.303807  90.482456   3.105662   \n",
       "35036           True     8.694737   87.227661  90.501754   3.079915   \n",
       "35037           True     8.650658   87.151515  90.521053   3.054167   \n",
       "35038           True     8.606579   87.075369  90.540351   3.028419   \n",
       "35039           True     8.562500   86.999223  90.559649   3.002671   \n",
       "\n",
       "       Precipitation  \n",
       "0          -0.007692  \n",
       "1          -0.008120  \n",
       "2          -0.008547  \n",
       "3          -0.008974  \n",
       "4          -0.009402  \n",
       "...              ...  \n",
       "35035       0.039474  \n",
       "35036       0.032632  \n",
       "35037       0.025789  \n",
       "35038       0.018947  \n",
       "35039       0.012105  \n",
       "\n",
       "[35040 rows x 16 columns]"
      ]
     },
     "execution_count": 34,
     "metadata": {},
     "output_type": "execute_result"
    }
   ],
   "source": [
    "data"
   ]
  },
  {
   "cell_type": "code",
   "execution_count": 37,
   "id": "da9d64bf",
   "metadata": {},
   "outputs": [],
   "source": [
    "vac=np.array(data[\"VacancesZoneC\"])"
   ]
  },
  {
   "cell_type": "code",
   "execution_count": 38,
   "id": "7c687018",
   "metadata": {},
   "outputs": [
    {
     "data": {
      "text/plain": [
       "array(['Normal', 'Normal', 'Normal', ..., 'Normal', 'Normal', 'Normal'],\n",
       "      dtype='<U8')"
      ]
     },
     "execution_count": 38,
     "metadata": {},
     "output_type": "execute_result"
    }
   ],
   "source": [
    "L=[]\n",
    "for i in vac:\n",
    "    if i==True:\n",
    "        L.append('Normal')\n",
    "    else:\n",
    "        L.append('Carbonne')\n",
    "pred=np.array(L)\n",
    "pred"
   ]
  },
  {
   "cell_type": "code",
   "execution_count": 45,
   "id": "1972a56b",
   "metadata": {},
   "outputs": [
    {
     "data": {
      "text/html": [
       "<div>\n",
       "<style scoped>\n",
       "    .dataframe tbody tr th:only-of-type {\n",
       "        vertical-align: middle;\n",
       "    }\n",
       "\n",
       "    .dataframe tbody tr th {\n",
       "        vertical-align: top;\n",
       "    }\n",
       "\n",
       "    .dataframe thead th {\n",
       "        text-align: right;\n",
       "    }\n",
       "</style>\n",
       "<table border=\"1\" class=\"dataframe\">\n",
       "  <thead>\n",
       "    <tr style=\"text-align: right;\">\n",
       "      <th></th>\n",
       "      <th>DateTime</th>\n",
       "      <th>PositionDansAnnee</th>\n",
       "      <th>Annee</th>\n",
       "      <th>Mois</th>\n",
       "      <th>DemiHeure</th>\n",
       "      <th>Jour</th>\n",
       "      <th>JourFerie</th>\n",
       "      <th>JourFerieType</th>\n",
       "      <th>VacancesZoneA</th>\n",
       "      <th>VacancesZoneB</th>\n",
       "      <th>VacancesZoneC</th>\n",
       "      <th>Temperature</th>\n",
       "      <th>Nebulosity</th>\n",
       "      <th>Humidity</th>\n",
       "      <th>WindSpeed</th>\n",
       "      <th>Precipitation</th>\n",
       "      <th>MixProdElec</th>\n",
       "    </tr>\n",
       "  </thead>\n",
       "  <tbody>\n",
       "    <tr>\n",
       "      <th>0</th>\n",
       "      <td>2019-01-01 00:00:00</td>\n",
       "      <td>0.000000</td>\n",
       "      <td>2019</td>\n",
       "      <td>janvier</td>\n",
       "      <td>0</td>\n",
       "      <td>mardi</td>\n",
       "      <td>True</td>\n",
       "      <td>1janvier</td>\n",
       "      <td>True</td>\n",
       "      <td>True</td>\n",
       "      <td>True</td>\n",
       "      <td>5.948718</td>\n",
       "      <td>96.000000</td>\n",
       "      <td>87.641026</td>\n",
       "      <td>2.535897</td>\n",
       "      <td>-0.007692</td>\n",
       "      <td>Normal</td>\n",
       "    </tr>\n",
       "    <tr>\n",
       "      <th>1</th>\n",
       "      <td>2019-01-01 00:30:00</td>\n",
       "      <td>0.000057</td>\n",
       "      <td>2019</td>\n",
       "      <td>janvier</td>\n",
       "      <td>1</td>\n",
       "      <td>mardi</td>\n",
       "      <td>True</td>\n",
       "      <td>1janvier</td>\n",
       "      <td>True</td>\n",
       "      <td>True</td>\n",
       "      <td>True</td>\n",
       "      <td>5.885043</td>\n",
       "      <td>96.230769</td>\n",
       "      <td>87.722222</td>\n",
       "      <td>2.571795</td>\n",
       "      <td>-0.008120</td>\n",
       "      <td>Normal</td>\n",
       "    </tr>\n",
       "    <tr>\n",
       "      <th>2</th>\n",
       "      <td>2019-01-01 01:00:00</td>\n",
       "      <td>0.000114</td>\n",
       "      <td>2019</td>\n",
       "      <td>janvier</td>\n",
       "      <td>2</td>\n",
       "      <td>mardi</td>\n",
       "      <td>True</td>\n",
       "      <td>1janvier</td>\n",
       "      <td>True</td>\n",
       "      <td>True</td>\n",
       "      <td>True</td>\n",
       "      <td>5.821368</td>\n",
       "      <td>96.461538</td>\n",
       "      <td>87.803419</td>\n",
       "      <td>2.607692</td>\n",
       "      <td>-0.008547</td>\n",
       "      <td>Normal</td>\n",
       "    </tr>\n",
       "    <tr>\n",
       "      <th>3</th>\n",
       "      <td>2019-01-01 01:30:00</td>\n",
       "      <td>0.000171</td>\n",
       "      <td>2019</td>\n",
       "      <td>janvier</td>\n",
       "      <td>3</td>\n",
       "      <td>mardi</td>\n",
       "      <td>True</td>\n",
       "      <td>1janvier</td>\n",
       "      <td>True</td>\n",
       "      <td>True</td>\n",
       "      <td>True</td>\n",
       "      <td>5.757692</td>\n",
       "      <td>96.692308</td>\n",
       "      <td>87.884615</td>\n",
       "      <td>2.643590</td>\n",
       "      <td>-0.008974</td>\n",
       "      <td>Normal</td>\n",
       "    </tr>\n",
       "    <tr>\n",
       "      <th>4</th>\n",
       "      <td>2019-01-01 02:00:00</td>\n",
       "      <td>0.000228</td>\n",
       "      <td>2019</td>\n",
       "      <td>janvier</td>\n",
       "      <td>4</td>\n",
       "      <td>mardi</td>\n",
       "      <td>True</td>\n",
       "      <td>1janvier</td>\n",
       "      <td>True</td>\n",
       "      <td>True</td>\n",
       "      <td>True</td>\n",
       "      <td>5.694017</td>\n",
       "      <td>96.923077</td>\n",
       "      <td>87.965812</td>\n",
       "      <td>2.679487</td>\n",
       "      <td>-0.009402</td>\n",
       "      <td>Normal</td>\n",
       "    </tr>\n",
       "    <tr>\n",
       "      <th>...</th>\n",
       "      <td>...</td>\n",
       "      <td>...</td>\n",
       "      <td>...</td>\n",
       "      <td>...</td>\n",
       "      <td>...</td>\n",
       "      <td>...</td>\n",
       "      <td>...</td>\n",
       "      <td>...</td>\n",
       "      <td>...</td>\n",
       "      <td>...</td>\n",
       "      <td>...</td>\n",
       "      <td>...</td>\n",
       "      <td>...</td>\n",
       "      <td>...</td>\n",
       "      <td>...</td>\n",
       "      <td>...</td>\n",
       "      <td>...</td>\n",
       "    </tr>\n",
       "    <tr>\n",
       "      <th>35035</th>\n",
       "      <td>2021-12-31 21:30:00</td>\n",
       "      <td>0.999772</td>\n",
       "      <td>2021</td>\n",
       "      <td>décembre</td>\n",
       "      <td>43</td>\n",
       "      <td>vendredi</td>\n",
       "      <td>False</td>\n",
       "      <td>nonFerie</td>\n",
       "      <td>True</td>\n",
       "      <td>True</td>\n",
       "      <td>True</td>\n",
       "      <td>8.738816</td>\n",
       "      <td>87.303807</td>\n",
       "      <td>90.482456</td>\n",
       "      <td>3.105662</td>\n",
       "      <td>0.039474</td>\n",
       "      <td>Normal</td>\n",
       "    </tr>\n",
       "    <tr>\n",
       "      <th>35036</th>\n",
       "      <td>2021-12-31 22:00:00</td>\n",
       "      <td>0.999829</td>\n",
       "      <td>2021</td>\n",
       "      <td>décembre</td>\n",
       "      <td>44</td>\n",
       "      <td>vendredi</td>\n",
       "      <td>False</td>\n",
       "      <td>nonFerie</td>\n",
       "      <td>True</td>\n",
       "      <td>True</td>\n",
       "      <td>True</td>\n",
       "      <td>8.694737</td>\n",
       "      <td>87.227661</td>\n",
       "      <td>90.501754</td>\n",
       "      <td>3.079915</td>\n",
       "      <td>0.032632</td>\n",
       "      <td>Normal</td>\n",
       "    </tr>\n",
       "    <tr>\n",
       "      <th>35037</th>\n",
       "      <td>2021-12-31 22:30:00</td>\n",
       "      <td>0.999886</td>\n",
       "      <td>2021</td>\n",
       "      <td>décembre</td>\n",
       "      <td>45</td>\n",
       "      <td>vendredi</td>\n",
       "      <td>False</td>\n",
       "      <td>nonFerie</td>\n",
       "      <td>True</td>\n",
       "      <td>True</td>\n",
       "      <td>True</td>\n",
       "      <td>8.650658</td>\n",
       "      <td>87.151515</td>\n",
       "      <td>90.521053</td>\n",
       "      <td>3.054167</td>\n",
       "      <td>0.025789</td>\n",
       "      <td>Normal</td>\n",
       "    </tr>\n",
       "    <tr>\n",
       "      <th>35038</th>\n",
       "      <td>2021-12-31 23:00:00</td>\n",
       "      <td>0.999943</td>\n",
       "      <td>2021</td>\n",
       "      <td>décembre</td>\n",
       "      <td>46</td>\n",
       "      <td>vendredi</td>\n",
       "      <td>False</td>\n",
       "      <td>nonFerie</td>\n",
       "      <td>True</td>\n",
       "      <td>True</td>\n",
       "      <td>True</td>\n",
       "      <td>8.606579</td>\n",
       "      <td>87.075369</td>\n",
       "      <td>90.540351</td>\n",
       "      <td>3.028419</td>\n",
       "      <td>0.018947</td>\n",
       "      <td>Normal</td>\n",
       "    </tr>\n",
       "    <tr>\n",
       "      <th>35039</th>\n",
       "      <td>2021-12-31 23:30:00</td>\n",
       "      <td>1.000000</td>\n",
       "      <td>2021</td>\n",
       "      <td>décembre</td>\n",
       "      <td>47</td>\n",
       "      <td>vendredi</td>\n",
       "      <td>False</td>\n",
       "      <td>nonFerie</td>\n",
       "      <td>True</td>\n",
       "      <td>True</td>\n",
       "      <td>True</td>\n",
       "      <td>8.562500</td>\n",
       "      <td>86.999223</td>\n",
       "      <td>90.559649</td>\n",
       "      <td>3.002671</td>\n",
       "      <td>0.012105</td>\n",
       "      <td>Normal</td>\n",
       "    </tr>\n",
       "  </tbody>\n",
       "</table>\n",
       "<p>35040 rows × 17 columns</p>\n",
       "</div>"
      ],
      "text/plain": [
       "                  DateTime  PositionDansAnnee  Annee      Mois  DemiHeure  \\\n",
       "0      2019-01-01 00:00:00           0.000000   2019   janvier          0   \n",
       "1      2019-01-01 00:30:00           0.000057   2019   janvier          1   \n",
       "2      2019-01-01 01:00:00           0.000114   2019   janvier          2   \n",
       "3      2019-01-01 01:30:00           0.000171   2019   janvier          3   \n",
       "4      2019-01-01 02:00:00           0.000228   2019   janvier          4   \n",
       "...                    ...                ...    ...       ...        ...   \n",
       "35035  2021-12-31 21:30:00           0.999772   2021  décembre         43   \n",
       "35036  2021-12-31 22:00:00           0.999829   2021  décembre         44   \n",
       "35037  2021-12-31 22:30:00           0.999886   2021  décembre         45   \n",
       "35038  2021-12-31 23:00:00           0.999943   2021  décembre         46   \n",
       "35039  2021-12-31 23:30:00           1.000000   2021  décembre         47   \n",
       "\n",
       "           Jour  JourFerie JourFerieType  VacancesZoneA  VacancesZoneB  \\\n",
       "0         mardi       True      1janvier           True           True   \n",
       "1         mardi       True      1janvier           True           True   \n",
       "2         mardi       True      1janvier           True           True   \n",
       "3         mardi       True      1janvier           True           True   \n",
       "4         mardi       True      1janvier           True           True   \n",
       "...         ...        ...           ...            ...            ...   \n",
       "35035  vendredi      False      nonFerie           True           True   \n",
       "35036  vendredi      False      nonFerie           True           True   \n",
       "35037  vendredi      False      nonFerie           True           True   \n",
       "35038  vendredi      False      nonFerie           True           True   \n",
       "35039  vendredi      False      nonFerie           True           True   \n",
       "\n",
       "       VacancesZoneC  Temperature  Nebulosity   Humidity  WindSpeed  \\\n",
       "0               True     5.948718   96.000000  87.641026   2.535897   \n",
       "1               True     5.885043   96.230769  87.722222   2.571795   \n",
       "2               True     5.821368   96.461538  87.803419   2.607692   \n",
       "3               True     5.757692   96.692308  87.884615   2.643590   \n",
       "4               True     5.694017   96.923077  87.965812   2.679487   \n",
       "...              ...          ...         ...        ...        ...   \n",
       "35035           True     8.738816   87.303807  90.482456   3.105662   \n",
       "35036           True     8.694737   87.227661  90.501754   3.079915   \n",
       "35037           True     8.650658   87.151515  90.521053   3.054167   \n",
       "35038           True     8.606579   87.075369  90.540351   3.028419   \n",
       "35039           True     8.562500   86.999223  90.559649   3.002671   \n",
       "\n",
       "       Precipitation MixProdElec  \n",
       "0          -0.007692      Normal  \n",
       "1          -0.008120      Normal  \n",
       "2          -0.008547      Normal  \n",
       "3          -0.008974      Normal  \n",
       "4          -0.009402      Normal  \n",
       "...              ...         ...  \n",
       "35035       0.039474      Normal  \n",
       "35036       0.032632      Normal  \n",
       "35037       0.025789      Normal  \n",
       "35038       0.018947      Normal  \n",
       "35039       0.012105      Normal  \n",
       "\n",
       "[35040 rows x 17 columns]"
      ]
     },
     "execution_count": 45,
     "metadata": {},
     "output_type": "execute_result"
    }
   ],
   "source": [
    "data[\"MixProdElec\"]=pred\n",
    "data"
   ]
  },
  {
   "cell_type": "code",
   "execution_count": null,
   "id": "ca919f86",
   "metadata": {},
   "outputs": [],
   "source": []
  },
  {
   "cell_type": "code",
   "execution_count": 48,
   "id": "676ec41f",
   "metadata": {},
   "outputs": [
    {
     "data": {
      "text/html": [
       "<div>\n",
       "<style scoped>\n",
       "    .dataframe tbody tr th:only-of-type {\n",
       "        vertical-align: middle;\n",
       "    }\n",
       "\n",
       "    .dataframe tbody tr th {\n",
       "        vertical-align: top;\n",
       "    }\n",
       "\n",
       "    .dataframe thead th {\n",
       "        text-align: right;\n",
       "    }\n",
       "</style>\n",
       "<table border=\"1\" class=\"dataframe\">\n",
       "  <thead>\n",
       "    <tr style=\"text-align: right;\">\n",
       "      <th></th>\n",
       "      <th>DateTime</th>\n",
       "      <th>MixProdElec</th>\n",
       "    </tr>\n",
       "  </thead>\n",
       "  <tbody>\n",
       "    <tr>\n",
       "      <th>0</th>\n",
       "      <td>2019-01-01 00:00:00</td>\n",
       "      <td>Normal</td>\n",
       "    </tr>\n",
       "    <tr>\n",
       "      <th>1</th>\n",
       "      <td>2019-01-01 00:30:00</td>\n",
       "      <td>Normal</td>\n",
       "    </tr>\n",
       "    <tr>\n",
       "      <th>2</th>\n",
       "      <td>2019-01-01 01:00:00</td>\n",
       "      <td>Normal</td>\n",
       "    </tr>\n",
       "    <tr>\n",
       "      <th>3</th>\n",
       "      <td>2019-01-01 01:30:00</td>\n",
       "      <td>Normal</td>\n",
       "    </tr>\n",
       "    <tr>\n",
       "      <th>4</th>\n",
       "      <td>2019-01-01 02:00:00</td>\n",
       "      <td>Normal</td>\n",
       "    </tr>\n",
       "    <tr>\n",
       "      <th>...</th>\n",
       "      <td>...</td>\n",
       "      <td>...</td>\n",
       "    </tr>\n",
       "    <tr>\n",
       "      <th>35035</th>\n",
       "      <td>2021-12-31 21:30:00</td>\n",
       "      <td>Normal</td>\n",
       "    </tr>\n",
       "    <tr>\n",
       "      <th>35036</th>\n",
       "      <td>2021-12-31 22:00:00</td>\n",
       "      <td>Normal</td>\n",
       "    </tr>\n",
       "    <tr>\n",
       "      <th>35037</th>\n",
       "      <td>2021-12-31 22:30:00</td>\n",
       "      <td>Normal</td>\n",
       "    </tr>\n",
       "    <tr>\n",
       "      <th>35038</th>\n",
       "      <td>2021-12-31 23:00:00</td>\n",
       "      <td>Normal</td>\n",
       "    </tr>\n",
       "    <tr>\n",
       "      <th>35039</th>\n",
       "      <td>2021-12-31 23:30:00</td>\n",
       "      <td>Normal</td>\n",
       "    </tr>\n",
       "  </tbody>\n",
       "</table>\n",
       "<p>35040 rows × 2 columns</p>\n",
       "</div>"
      ],
      "text/plain": [
       "                  DateTime MixProdElec\n",
       "0      2019-01-01 00:00:00      Normal\n",
       "1      2019-01-01 00:30:00      Normal\n",
       "2      2019-01-01 01:00:00      Normal\n",
       "3      2019-01-01 01:30:00      Normal\n",
       "4      2019-01-01 02:00:00      Normal\n",
       "...                    ...         ...\n",
       "35035  2021-12-31 21:30:00      Normal\n",
       "35036  2021-12-31 22:00:00      Normal\n",
       "35037  2021-12-31 22:30:00      Normal\n",
       "35038  2021-12-31 23:00:00      Normal\n",
       "35039  2021-12-31 23:30:00      Normal\n",
       "\n",
       "[35040 rows x 2 columns]"
      ]
     },
     "execution_count": 48,
     "metadata": {},
     "output_type": "execute_result"
    }
   ],
   "source": [
    "soumission=data2\n",
    "soumission['MixProdElec']=pred\n",
    "soumission"
   ]
  },
  {
   "cell_type": "code",
   "execution_count": 50,
   "id": "4868a286",
   "metadata": {},
   "outputs": [],
   "source": [
    "soumission.to_csv(\"predictions2.csv\",index=False)"
   ]
  },
  {
   "cell_type": "code",
   "execution_count": null,
   "id": "cf5a76ce",
   "metadata": {},
   "outputs": [],
   "source": []
  },
  {
   "cell_type": "code",
   "execution_count": null,
   "id": "dff295f2",
   "metadata": {},
   "outputs": [],
   "source": []
  },
  {
   "cell_type": "code",
   "execution_count": null,
   "id": "af36f428",
   "metadata": {},
   "outputs": [],
   "source": []
  },
  {
   "cell_type": "code",
   "execution_count": null,
   "id": "b27e8f8c",
   "metadata": {},
   "outputs": [],
   "source": []
  },
  {
   "cell_type": "code",
   "execution_count": null,
   "id": "4db3bd50",
   "metadata": {},
   "outputs": [],
   "source": []
  },
  {
   "cell_type": "code",
   "execution_count": null,
   "id": "92dfdb62",
   "metadata": {},
   "outputs": [],
   "source": []
  },
  {
   "cell_type": "code",
   "execution_count": null,
   "id": "afb2ab42",
   "metadata": {},
   "outputs": [],
   "source": []
  },
  {
   "cell_type": "code",
   "execution_count": null,
   "id": "e2ef7d60",
   "metadata": {},
   "outputs": [],
   "source": []
  }
 ],
 "metadata": {
  "kernelspec": {
   "display_name": "Python 3 (ipykernel)",
   "language": "python",
   "name": "python3"
  },
  "language_info": {
   "codemirror_mode": {
    "name": "ipython",
    "version": 3
   },
   "file_extension": ".py",
   "mimetype": "text/x-python",
   "name": "python",
   "nbconvert_exporter": "python",
   "pygments_lexer": "ipython3",
   "version": "3.11.4"
  }
 },
 "nbformat": 4,
 "nbformat_minor": 5
}
