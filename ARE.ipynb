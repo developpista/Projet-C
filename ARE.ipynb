{
 "cells": [
  {
   "cell_type": "code",
   "execution_count": 1,
   "id": "ea828c6a",
   "metadata": {},
   "outputs": [],
   "source": [
    "import pandas as pd\n",
    "import numpy as np\n",
    "import matplotlib.pyplot as plt\n",
    "data1=pd.read_csv(\"benchmark.csv\")\n",
    "data2=pd.read_csv('prev.csv')\n",
    "data3=pd.read_csv('train.csv')"
   ]
  },
  {
   "cell_type": "code",
   "execution_count": 2,
   "id": "1e703222",
   "metadata": {},
   "outputs": [
    {
     "data": {
      "text/html": [
       "<div>\n",
       "<style scoped>\n",
       "    .dataframe tbody tr th:only-of-type {\n",
       "        vertical-align: middle;\n",
       "    }\n",
       "\n",
       "    .dataframe tbody tr th {\n",
       "        vertical-align: top;\n",
       "    }\n",
       "\n",
       "    .dataframe thead th {\n",
       "        text-align: right;\n",
       "    }\n",
       "</style>\n",
       "<table border=\"1\" class=\"dataframe\">\n",
       "  <thead>\n",
       "    <tr style=\"text-align: right;\">\n",
       "      <th></th>\n",
       "      <th>DateTime</th>\n",
       "      <th>MixProdElec</th>\n",
       "    </tr>\n",
       "  </thead>\n",
       "  <tbody>\n",
       "    <tr>\n",
       "      <th>0</th>\n",
       "      <td>2019-01-01 00:00:00</td>\n",
       "      <td>Normal</td>\n",
       "    </tr>\n",
       "    <tr>\n",
       "      <th>1</th>\n",
       "      <td>2019-01-01 00:30:00</td>\n",
       "      <td>Normal</td>\n",
       "    </tr>\n",
       "    <tr>\n",
       "      <th>2</th>\n",
       "      <td>2019-01-01 01:00:00</td>\n",
       "      <td>Normal</td>\n",
       "    </tr>\n",
       "    <tr>\n",
       "      <th>3</th>\n",
       "      <td>2019-01-01 01:30:00</td>\n",
       "      <td>Normal</td>\n",
       "    </tr>\n",
       "    <tr>\n",
       "      <th>4</th>\n",
       "      <td>2019-01-01 02:00:00</td>\n",
       "      <td>Normal</td>\n",
       "    </tr>\n",
       "    <tr>\n",
       "      <th>5</th>\n",
       "      <td>2019-01-01 02:30:00</td>\n",
       "      <td>Normal</td>\n",
       "    </tr>\n",
       "    <tr>\n",
       "      <th>6</th>\n",
       "      <td>2019-01-01 03:00:00</td>\n",
       "      <td>Normal</td>\n",
       "    </tr>\n",
       "    <tr>\n",
       "      <th>7</th>\n",
       "      <td>2019-01-01 03:30:00</td>\n",
       "      <td>Normal</td>\n",
       "    </tr>\n",
       "    <tr>\n",
       "      <th>8</th>\n",
       "      <td>2019-01-01 04:00:00</td>\n",
       "      <td>Normal</td>\n",
       "    </tr>\n",
       "    <tr>\n",
       "      <th>9</th>\n",
       "      <td>2019-01-01 04:30:00</td>\n",
       "      <td>Normal</td>\n",
       "    </tr>\n",
       "  </tbody>\n",
       "</table>\n",
       "</div>"
      ],
      "text/plain": [
       "              DateTime MixProdElec\n",
       "0  2019-01-01 00:00:00      Normal\n",
       "1  2019-01-01 00:30:00      Normal\n",
       "2  2019-01-01 01:00:00      Normal\n",
       "3  2019-01-01 01:30:00      Normal\n",
       "4  2019-01-01 02:00:00      Normal\n",
       "5  2019-01-01 02:30:00      Normal\n",
       "6  2019-01-01 03:00:00      Normal\n",
       "7  2019-01-01 03:30:00      Normal\n",
       "8  2019-01-01 04:00:00      Normal\n",
       "9  2019-01-01 04:30:00      Normal"
      ]
     },
     "execution_count": 2,
     "metadata": {},
     "output_type": "execute_result"
    }
   ],
   "source": [
    "data1.head(10)\n"
   ]
  },
  {
   "cell_type": "code",
   "execution_count": 3,
   "id": "cfaae1f3",
   "metadata": {},
   "outputs": [
    {
     "data": {
      "text/html": [
       "<div>\n",
       "<style scoped>\n",
       "    .dataframe tbody tr th:only-of-type {\n",
       "        vertical-align: middle;\n",
       "    }\n",
       "\n",
       "    .dataframe tbody tr th {\n",
       "        vertical-align: top;\n",
       "    }\n",
       "\n",
       "    .dataframe thead th {\n",
       "        text-align: right;\n",
       "    }\n",
       "</style>\n",
       "<table border=\"1\" class=\"dataframe\">\n",
       "  <thead>\n",
       "    <tr style=\"text-align: right;\">\n",
       "      <th></th>\n",
       "      <th>DateTime</th>\n",
       "      <th>PositionDansAnnee</th>\n",
       "      <th>Annee</th>\n",
       "      <th>Mois</th>\n",
       "      <th>DemiHeure</th>\n",
       "      <th>Jour</th>\n",
       "      <th>JourFerie</th>\n",
       "      <th>JourFerieType</th>\n",
       "      <th>VacancesZoneA</th>\n",
       "      <th>VacancesZoneB</th>\n",
       "      <th>VacancesZoneC</th>\n",
       "      <th>Temperature</th>\n",
       "      <th>Nebulosity</th>\n",
       "      <th>Humidity</th>\n",
       "      <th>WindSpeed</th>\n",
       "      <th>Precipitation</th>\n",
       "    </tr>\n",
       "  </thead>\n",
       "  <tbody>\n",
       "    <tr>\n",
       "      <th>0</th>\n",
       "      <td>2019-01-01 00:00:00</td>\n",
       "      <td>0.000000</td>\n",
       "      <td>2019</td>\n",
       "      <td>janvier</td>\n",
       "      <td>0</td>\n",
       "      <td>mardi</td>\n",
       "      <td>True</td>\n",
       "      <td>1janvier</td>\n",
       "      <td>True</td>\n",
       "      <td>True</td>\n",
       "      <td>True</td>\n",
       "      <td>5.948718</td>\n",
       "      <td>96.000000</td>\n",
       "      <td>87.641026</td>\n",
       "      <td>2.535897</td>\n",
       "      <td>-0.007692</td>\n",
       "    </tr>\n",
       "    <tr>\n",
       "      <th>1</th>\n",
       "      <td>2019-01-01 00:30:00</td>\n",
       "      <td>0.000057</td>\n",
       "      <td>2019</td>\n",
       "      <td>janvier</td>\n",
       "      <td>1</td>\n",
       "      <td>mardi</td>\n",
       "      <td>True</td>\n",
       "      <td>1janvier</td>\n",
       "      <td>True</td>\n",
       "      <td>True</td>\n",
       "      <td>True</td>\n",
       "      <td>5.885043</td>\n",
       "      <td>96.230769</td>\n",
       "      <td>87.722222</td>\n",
       "      <td>2.571795</td>\n",
       "      <td>-0.008120</td>\n",
       "    </tr>\n",
       "    <tr>\n",
       "      <th>2</th>\n",
       "      <td>2019-01-01 01:00:00</td>\n",
       "      <td>0.000114</td>\n",
       "      <td>2019</td>\n",
       "      <td>janvier</td>\n",
       "      <td>2</td>\n",
       "      <td>mardi</td>\n",
       "      <td>True</td>\n",
       "      <td>1janvier</td>\n",
       "      <td>True</td>\n",
       "      <td>True</td>\n",
       "      <td>True</td>\n",
       "      <td>5.821368</td>\n",
       "      <td>96.461538</td>\n",
       "      <td>87.803419</td>\n",
       "      <td>2.607692</td>\n",
       "      <td>-0.008547</td>\n",
       "    </tr>\n",
       "    <tr>\n",
       "      <th>3</th>\n",
       "      <td>2019-01-01 01:30:00</td>\n",
       "      <td>0.000171</td>\n",
       "      <td>2019</td>\n",
       "      <td>janvier</td>\n",
       "      <td>3</td>\n",
       "      <td>mardi</td>\n",
       "      <td>True</td>\n",
       "      <td>1janvier</td>\n",
       "      <td>True</td>\n",
       "      <td>True</td>\n",
       "      <td>True</td>\n",
       "      <td>5.757692</td>\n",
       "      <td>96.692308</td>\n",
       "      <td>87.884615</td>\n",
       "      <td>2.643590</td>\n",
       "      <td>-0.008974</td>\n",
       "    </tr>\n",
       "    <tr>\n",
       "      <th>4</th>\n",
       "      <td>2019-01-01 02:00:00</td>\n",
       "      <td>0.000228</td>\n",
       "      <td>2019</td>\n",
       "      <td>janvier</td>\n",
       "      <td>4</td>\n",
       "      <td>mardi</td>\n",
       "      <td>True</td>\n",
       "      <td>1janvier</td>\n",
       "      <td>True</td>\n",
       "      <td>True</td>\n",
       "      <td>True</td>\n",
       "      <td>5.694017</td>\n",
       "      <td>96.923077</td>\n",
       "      <td>87.965812</td>\n",
       "      <td>2.679487</td>\n",
       "      <td>-0.009402</td>\n",
       "    </tr>\n",
       "    <tr>\n",
       "      <th>5</th>\n",
       "      <td>2019-01-01 02:30:00</td>\n",
       "      <td>0.000285</td>\n",
       "      <td>2019</td>\n",
       "      <td>janvier</td>\n",
       "      <td>5</td>\n",
       "      <td>mardi</td>\n",
       "      <td>True</td>\n",
       "      <td>1janvier</td>\n",
       "      <td>True</td>\n",
       "      <td>True</td>\n",
       "      <td>True</td>\n",
       "      <td>5.630342</td>\n",
       "      <td>97.153846</td>\n",
       "      <td>88.047009</td>\n",
       "      <td>2.715385</td>\n",
       "      <td>-0.009829</td>\n",
       "    </tr>\n",
       "    <tr>\n",
       "      <th>6</th>\n",
       "      <td>2019-01-01 03:00:00</td>\n",
       "      <td>0.000342</td>\n",
       "      <td>2019</td>\n",
       "      <td>janvier</td>\n",
       "      <td>6</td>\n",
       "      <td>mardi</td>\n",
       "      <td>True</td>\n",
       "      <td>1janvier</td>\n",
       "      <td>True</td>\n",
       "      <td>True</td>\n",
       "      <td>True</td>\n",
       "      <td>5.566667</td>\n",
       "      <td>97.384615</td>\n",
       "      <td>88.128205</td>\n",
       "      <td>2.751282</td>\n",
       "      <td>-0.010256</td>\n",
       "    </tr>\n",
       "    <tr>\n",
       "      <th>7</th>\n",
       "      <td>2019-01-01 03:30:00</td>\n",
       "      <td>0.000400</td>\n",
       "      <td>2019</td>\n",
       "      <td>janvier</td>\n",
       "      <td>7</td>\n",
       "      <td>mardi</td>\n",
       "      <td>True</td>\n",
       "      <td>1janvier</td>\n",
       "      <td>True</td>\n",
       "      <td>True</td>\n",
       "      <td>True</td>\n",
       "      <td>5.508974</td>\n",
       "      <td>97.412467</td>\n",
       "      <td>88.243590</td>\n",
       "      <td>2.740598</td>\n",
       "      <td>-0.008974</td>\n",
       "    </tr>\n",
       "    <tr>\n",
       "      <th>8</th>\n",
       "      <td>2019-01-01 04:00:00</td>\n",
       "      <td>0.000457</td>\n",
       "      <td>2019</td>\n",
       "      <td>janvier</td>\n",
       "      <td>8</td>\n",
       "      <td>mardi</td>\n",
       "      <td>True</td>\n",
       "      <td>1janvier</td>\n",
       "      <td>True</td>\n",
       "      <td>True</td>\n",
       "      <td>True</td>\n",
       "      <td>5.451282</td>\n",
       "      <td>97.440318</td>\n",
       "      <td>88.358974</td>\n",
       "      <td>2.729915</td>\n",
       "      <td>-0.007692</td>\n",
       "    </tr>\n",
       "    <tr>\n",
       "      <th>9</th>\n",
       "      <td>2019-01-01 04:30:00</td>\n",
       "      <td>0.000514</td>\n",
       "      <td>2019</td>\n",
       "      <td>janvier</td>\n",
       "      <td>9</td>\n",
       "      <td>mardi</td>\n",
       "      <td>True</td>\n",
       "      <td>1janvier</td>\n",
       "      <td>True</td>\n",
       "      <td>True</td>\n",
       "      <td>True</td>\n",
       "      <td>5.393590</td>\n",
       "      <td>97.468170</td>\n",
       "      <td>88.474359</td>\n",
       "      <td>2.719231</td>\n",
       "      <td>-0.006410</td>\n",
       "    </tr>\n",
       "  </tbody>\n",
       "</table>\n",
       "</div>"
      ],
      "text/plain": [
       "              DateTime  PositionDansAnnee  Annee     Mois  DemiHeure   Jour  \\\n",
       "0  2019-01-01 00:00:00           0.000000   2019  janvier          0  mardi   \n",
       "1  2019-01-01 00:30:00           0.000057   2019  janvier          1  mardi   \n",
       "2  2019-01-01 01:00:00           0.000114   2019  janvier          2  mardi   \n",
       "3  2019-01-01 01:30:00           0.000171   2019  janvier          3  mardi   \n",
       "4  2019-01-01 02:00:00           0.000228   2019  janvier          4  mardi   \n",
       "5  2019-01-01 02:30:00           0.000285   2019  janvier          5  mardi   \n",
       "6  2019-01-01 03:00:00           0.000342   2019  janvier          6  mardi   \n",
       "7  2019-01-01 03:30:00           0.000400   2019  janvier          7  mardi   \n",
       "8  2019-01-01 04:00:00           0.000457   2019  janvier          8  mardi   \n",
       "9  2019-01-01 04:30:00           0.000514   2019  janvier          9  mardi   \n",
       "\n",
       "   JourFerie JourFerieType  VacancesZoneA  VacancesZoneB  VacancesZoneC  \\\n",
       "0       True      1janvier           True           True           True   \n",
       "1       True      1janvier           True           True           True   \n",
       "2       True      1janvier           True           True           True   \n",
       "3       True      1janvier           True           True           True   \n",
       "4       True      1janvier           True           True           True   \n",
       "5       True      1janvier           True           True           True   \n",
       "6       True      1janvier           True           True           True   \n",
       "7       True      1janvier           True           True           True   \n",
       "8       True      1janvier           True           True           True   \n",
       "9       True      1janvier           True           True           True   \n",
       "\n",
       "   Temperature  Nebulosity   Humidity  WindSpeed  Precipitation  \n",
       "0     5.948718   96.000000  87.641026   2.535897      -0.007692  \n",
       "1     5.885043   96.230769  87.722222   2.571795      -0.008120  \n",
       "2     5.821368   96.461538  87.803419   2.607692      -0.008547  \n",
       "3     5.757692   96.692308  87.884615   2.643590      -0.008974  \n",
       "4     5.694017   96.923077  87.965812   2.679487      -0.009402  \n",
       "5     5.630342   97.153846  88.047009   2.715385      -0.009829  \n",
       "6     5.566667   97.384615  88.128205   2.751282      -0.010256  \n",
       "7     5.508974   97.412467  88.243590   2.740598      -0.008974  \n",
       "8     5.451282   97.440318  88.358974   2.729915      -0.007692  \n",
       "9     5.393590   97.468170  88.474359   2.719231      -0.006410  "
      ]
     },
     "execution_count": 3,
     "metadata": {},
     "output_type": "execute_result"
    }
   ],
   "source": [
    "data2.head(10)"
   ]
  },
  {
   "cell_type": "code",
   "execution_count": 4,
   "id": "a848c315",
   "metadata": {},
   "outputs": [
    {
     "data": {
      "text/html": [
       "<div>\n",
       "<style scoped>\n",
       "    .dataframe tbody tr th:only-of-type {\n",
       "        vertical-align: middle;\n",
       "    }\n",
       "\n",
       "    .dataframe tbody tr th {\n",
       "        vertical-align: top;\n",
       "    }\n",
       "\n",
       "    .dataframe thead th {\n",
       "        text-align: right;\n",
       "    }\n",
       "</style>\n",
       "<table border=\"1\" class=\"dataframe\">\n",
       "  <thead>\n",
       "    <tr style=\"text-align: right;\">\n",
       "      <th></th>\n",
       "      <th>DateTime</th>\n",
       "      <th>MixProdElec</th>\n",
       "      <th>EmissionCO2</th>\n",
       "      <th>PositionDansAnnee</th>\n",
       "      <th>Annee</th>\n",
       "      <th>Mois</th>\n",
       "      <th>DemiHeure</th>\n",
       "      <th>Jour</th>\n",
       "      <th>JourFerie</th>\n",
       "      <th>JourFerieType</th>\n",
       "      <th>VacancesZoneA</th>\n",
       "      <th>VacancesZoneB</th>\n",
       "      <th>VacancesZoneC</th>\n",
       "      <th>Temperature</th>\n",
       "      <th>Nebulosity</th>\n",
       "      <th>Humidity</th>\n",
       "      <th>WindSpeed</th>\n",
       "      <th>Precipitation</th>\n",
       "    </tr>\n",
       "  </thead>\n",
       "  <tbody>\n",
       "    <tr>\n",
       "      <th>0</th>\n",
       "      <td>2016-01-01 00:00:00</td>\n",
       "      <td>Normal</td>\n",
       "      <td>932.5575</td>\n",
       "      <td>0.000000</td>\n",
       "      <td>2016</td>\n",
       "      <td>janvier</td>\n",
       "      <td>0</td>\n",
       "      <td>vendredi</td>\n",
       "      <td>True</td>\n",
       "      <td>1janvier</td>\n",
       "      <td>True</td>\n",
       "      <td>True</td>\n",
       "      <td>True</td>\n",
       "      <td>6.470270</td>\n",
       "      <td>88.761905</td>\n",
       "      <td>91.216216</td>\n",
       "      <td>2.264865</td>\n",
       "      <td>-0.013514</td>\n",
       "    </tr>\n",
       "    <tr>\n",
       "      <th>1</th>\n",
       "      <td>2016-01-01 00:30:00</td>\n",
       "      <td>Normal</td>\n",
       "      <td>912.7485</td>\n",
       "      <td>0.000057</td>\n",
       "      <td>2016</td>\n",
       "      <td>janvier</td>\n",
       "      <td>1</td>\n",
       "      <td>vendredi</td>\n",
       "      <td>True</td>\n",
       "      <td>1janvier</td>\n",
       "      <td>True</td>\n",
       "      <td>True</td>\n",
       "      <td>True</td>\n",
       "      <td>6.324798</td>\n",
       "      <td>88.557998</td>\n",
       "      <td>91.466505</td>\n",
       "      <td>2.226276</td>\n",
       "      <td>-0.010407</td>\n",
       "    </tr>\n",
       "    <tr>\n",
       "      <th>2</th>\n",
       "      <td>2016-01-01 01:00:00</td>\n",
       "      <td>Normal</td>\n",
       "      <td>906.8480</td>\n",
       "      <td>0.000114</td>\n",
       "      <td>2016</td>\n",
       "      <td>janvier</td>\n",
       "      <td>2</td>\n",
       "      <td>vendredi</td>\n",
       "      <td>True</td>\n",
       "      <td>1janvier</td>\n",
       "      <td>True</td>\n",
       "      <td>True</td>\n",
       "      <td>True</td>\n",
       "      <td>6.179325</td>\n",
       "      <td>88.354090</td>\n",
       "      <td>91.716794</td>\n",
       "      <td>2.187688</td>\n",
       "      <td>-0.007300</td>\n",
       "    </tr>\n",
       "    <tr>\n",
       "      <th>3</th>\n",
       "      <td>2016-01-01 01:30:00</td>\n",
       "      <td>Normal</td>\n",
       "      <td>903.3600</td>\n",
       "      <td>0.000171</td>\n",
       "      <td>2016</td>\n",
       "      <td>janvier</td>\n",
       "      <td>3</td>\n",
       "      <td>vendredi</td>\n",
       "      <td>True</td>\n",
       "      <td>1janvier</td>\n",
       "      <td>True</td>\n",
       "      <td>True</td>\n",
       "      <td>True</td>\n",
       "      <td>6.033853</td>\n",
       "      <td>88.150183</td>\n",
       "      <td>91.967082</td>\n",
       "      <td>2.149099</td>\n",
       "      <td>-0.004193</td>\n",
       "    </tr>\n",
       "    <tr>\n",
       "      <th>4</th>\n",
       "      <td>2016-01-01 02:00:00</td>\n",
       "      <td>Normal</td>\n",
       "      <td>892.4800</td>\n",
       "      <td>0.000228</td>\n",
       "      <td>2016</td>\n",
       "      <td>janvier</td>\n",
       "      <td>4</td>\n",
       "      <td>vendredi</td>\n",
       "      <td>True</td>\n",
       "      <td>1janvier</td>\n",
       "      <td>True</td>\n",
       "      <td>True</td>\n",
       "      <td>True</td>\n",
       "      <td>5.888381</td>\n",
       "      <td>87.946276</td>\n",
       "      <td>92.217371</td>\n",
       "      <td>2.110511</td>\n",
       "      <td>-0.001086</td>\n",
       "    </tr>\n",
       "    <tr>\n",
       "      <th>5</th>\n",
       "      <td>2016-01-01 02:30:00</td>\n",
       "      <td>Normal</td>\n",
       "      <td>911.3445</td>\n",
       "      <td>0.000285</td>\n",
       "      <td>2016</td>\n",
       "      <td>janvier</td>\n",
       "      <td>5</td>\n",
       "      <td>vendredi</td>\n",
       "      <td>True</td>\n",
       "      <td>1janvier</td>\n",
       "      <td>True</td>\n",
       "      <td>True</td>\n",
       "      <td>True</td>\n",
       "      <td>5.742908</td>\n",
       "      <td>87.742369</td>\n",
       "      <td>92.467660</td>\n",
       "      <td>2.071922</td>\n",
       "      <td>0.002021</td>\n",
       "    </tr>\n",
       "    <tr>\n",
       "      <th>6</th>\n",
       "      <td>2016-01-01 03:00:00</td>\n",
       "      <td>Normal</td>\n",
       "      <td>903.7200</td>\n",
       "      <td>0.000342</td>\n",
       "      <td>2016</td>\n",
       "      <td>janvier</td>\n",
       "      <td>6</td>\n",
       "      <td>vendredi</td>\n",
       "      <td>True</td>\n",
       "      <td>1janvier</td>\n",
       "      <td>True</td>\n",
       "      <td>True</td>\n",
       "      <td>True</td>\n",
       "      <td>5.597436</td>\n",
       "      <td>87.538462</td>\n",
       "      <td>92.717949</td>\n",
       "      <td>2.033333</td>\n",
       "      <td>0.005128</td>\n",
       "    </tr>\n",
       "    <tr>\n",
       "      <th>7</th>\n",
       "      <td>2016-01-01 03:30:00</td>\n",
       "      <td>Normal</td>\n",
       "      <td>903.8400</td>\n",
       "      <td>0.000398</td>\n",
       "      <td>2016</td>\n",
       "      <td>janvier</td>\n",
       "      <td>7</td>\n",
       "      <td>vendredi</td>\n",
       "      <td>True</td>\n",
       "      <td>1janvier</td>\n",
       "      <td>True</td>\n",
       "      <td>True</td>\n",
       "      <td>True</td>\n",
       "      <td>5.520386</td>\n",
       "      <td>86.252289</td>\n",
       "      <td>92.846038</td>\n",
       "      <td>2.147598</td>\n",
       "      <td>0.010292</td>\n",
       "    </tr>\n",
       "    <tr>\n",
       "      <th>8</th>\n",
       "      <td>2016-01-01 04:00:00</td>\n",
       "      <td>Normal</td>\n",
       "      <td>903.7260</td>\n",
       "      <td>0.000455</td>\n",
       "      <td>2016</td>\n",
       "      <td>janvier</td>\n",
       "      <td>8</td>\n",
       "      <td>vendredi</td>\n",
       "      <td>True</td>\n",
       "      <td>1janvier</td>\n",
       "      <td>True</td>\n",
       "      <td>True</td>\n",
       "      <td>True</td>\n",
       "      <td>5.443336</td>\n",
       "      <td>84.966117</td>\n",
       "      <td>92.974128</td>\n",
       "      <td>2.261862</td>\n",
       "      <td>0.015456</td>\n",
       "    </tr>\n",
       "    <tr>\n",
       "      <th>9</th>\n",
       "      <td>2016-01-01 04:30:00</td>\n",
       "      <td>Normal</td>\n",
       "      <td>863.5375</td>\n",
       "      <td>0.000512</td>\n",
       "      <td>2016</td>\n",
       "      <td>janvier</td>\n",
       "      <td>9</td>\n",
       "      <td>vendredi</td>\n",
       "      <td>True</td>\n",
       "      <td>1janvier</td>\n",
       "      <td>True</td>\n",
       "      <td>True</td>\n",
       "      <td>True</td>\n",
       "      <td>5.366286</td>\n",
       "      <td>83.679945</td>\n",
       "      <td>93.102218</td>\n",
       "      <td>2.376126</td>\n",
       "      <td>0.020620</td>\n",
       "    </tr>\n",
       "  </tbody>\n",
       "</table>\n",
       "</div>"
      ],
      "text/plain": [
       "              DateTime MixProdElec  EmissionCO2  PositionDansAnnee  Annee  \\\n",
       "0  2016-01-01 00:00:00      Normal     932.5575           0.000000   2016   \n",
       "1  2016-01-01 00:30:00      Normal     912.7485           0.000057   2016   \n",
       "2  2016-01-01 01:00:00      Normal     906.8480           0.000114   2016   \n",
       "3  2016-01-01 01:30:00      Normal     903.3600           0.000171   2016   \n",
       "4  2016-01-01 02:00:00      Normal     892.4800           0.000228   2016   \n",
       "5  2016-01-01 02:30:00      Normal     911.3445           0.000285   2016   \n",
       "6  2016-01-01 03:00:00      Normal     903.7200           0.000342   2016   \n",
       "7  2016-01-01 03:30:00      Normal     903.8400           0.000398   2016   \n",
       "8  2016-01-01 04:00:00      Normal     903.7260           0.000455   2016   \n",
       "9  2016-01-01 04:30:00      Normal     863.5375           0.000512   2016   \n",
       "\n",
       "      Mois  DemiHeure      Jour  JourFerie JourFerieType  VacancesZoneA  \\\n",
       "0  janvier          0  vendredi       True      1janvier           True   \n",
       "1  janvier          1  vendredi       True      1janvier           True   \n",
       "2  janvier          2  vendredi       True      1janvier           True   \n",
       "3  janvier          3  vendredi       True      1janvier           True   \n",
       "4  janvier          4  vendredi       True      1janvier           True   \n",
       "5  janvier          5  vendredi       True      1janvier           True   \n",
       "6  janvier          6  vendredi       True      1janvier           True   \n",
       "7  janvier          7  vendredi       True      1janvier           True   \n",
       "8  janvier          8  vendredi       True      1janvier           True   \n",
       "9  janvier          9  vendredi       True      1janvier           True   \n",
       "\n",
       "   VacancesZoneB  VacancesZoneC  Temperature  Nebulosity   Humidity  \\\n",
       "0           True           True     6.470270   88.761905  91.216216   \n",
       "1           True           True     6.324798   88.557998  91.466505   \n",
       "2           True           True     6.179325   88.354090  91.716794   \n",
       "3           True           True     6.033853   88.150183  91.967082   \n",
       "4           True           True     5.888381   87.946276  92.217371   \n",
       "5           True           True     5.742908   87.742369  92.467660   \n",
       "6           True           True     5.597436   87.538462  92.717949   \n",
       "7           True           True     5.520386   86.252289  92.846038   \n",
       "8           True           True     5.443336   84.966117  92.974128   \n",
       "9           True           True     5.366286   83.679945  93.102218   \n",
       "\n",
       "   WindSpeed  Precipitation  \n",
       "0   2.264865      -0.013514  \n",
       "1   2.226276      -0.010407  \n",
       "2   2.187688      -0.007300  \n",
       "3   2.149099      -0.004193  \n",
       "4   2.110511      -0.001086  \n",
       "5   2.071922       0.002021  \n",
       "6   2.033333       0.005128  \n",
       "7   2.147598       0.010292  \n",
       "8   2.261862       0.015456  \n",
       "9   2.376126       0.020620  "
      ]
     },
     "execution_count": 4,
     "metadata": {},
     "output_type": "execute_result"
    }
   ],
   "source": [
    "data3.head(10)"
   ]
  },
  {
   "cell_type": "code",
   "execution_count": 5,
   "id": "62119249",
   "metadata": {},
   "outputs": [
    {
     "data": {
      "text/plain": [
       "(35040, 16)"
      ]
     },
     "execution_count": 5,
     "metadata": {},
     "output_type": "execute_result"
    }
   ],
   "source": [
    "np.shape(data2)"
   ]
  },
  {
   "cell_type": "code",
   "execution_count": 6,
   "id": "1ae75e6d",
   "metadata": {},
   "outputs": [
    {
     "data": {
      "text/plain": [
       "(95985, 18)"
      ]
     },
     "execution_count": 6,
     "metadata": {},
     "output_type": "execute_result"
    }
   ],
   "source": [
    "np.shape(data3)"
   ]
  },
  {
   "cell_type": "code",
   "execution_count": 7,
   "id": "9ece4a31",
   "metadata": {},
   "outputs": [],
   "source": [
    "Tmp16=data3[\"Temperature\"]"
   ]
  },
  {
   "cell_type": "code",
   "execution_count": 8,
   "id": "846d1135",
   "metadata": {},
   "outputs": [
    {
     "data": {
      "text/plain": [
       "(-6.546153846153832, 36.22307692307693, 12.91663413542106)"
      ]
     },
     "execution_count": 8,
     "metadata": {},
     "output_type": "execute_result"
    }
   ],
   "source": [
    "np.min(Tmp16),np.max(Tmp16),np.mean(Tmp16)"
   ]
  },
  {
   "cell_type": "code",
   "execution_count": 9,
   "id": "9c10fa07",
   "metadata": {},
   "outputs": [],
   "source": [
    "# La température moyenne de l'anée 2016 est d'environ 13 degrés"
   ]
  },
  {
   "cell_type": "code",
   "execution_count": 10,
   "id": "1948843e",
   "metadata": {},
   "outputs": [
    {
     "data": {
      "text/plain": [
       "(array([  192.,  2920., 13543., 22387., 20154., 18057., 11736.,  5565.,\n",
       "         1328.,   103.]),\n",
       " array([-6.54615385, -2.26923077,  2.00769231,  6.28461538, 10.56153846,\n",
       "        14.83846154, 19.11538462, 23.39230769, 27.66923077, 31.94615385,\n",
       "        36.22307692]),\n",
       " <BarContainer object of 10 artists>)"
      ]
     },
     "execution_count": 10,
     "metadata": {},
     "output_type": "execute_result"
    },
    {
     "data": {
      "image/png": "[encoded data removed]",
      "text/plain": [
       "<Figure size 640x480 with 1 Axes>"
      ]
     },
     "metadata": {},
     "output_type": "display_data"
    }
   ],
   "source": [
    "plt.hist(Tmp16,bins=10)"
   ]
  },
  {
   "cell_type": "code",
   "execution_count": 11,
   "id": "c5a81cb8",
   "metadata": {},
   "outputs": [],
   "source": [
    "Tmp19=data2[\"Temperature\"]"
   ]
  },
  {
   "cell_type": "code",
   "execution_count": 12,
   "id": "c900180a",
   "metadata": {},
   "outputs": [
    {
     "data": {
      "text/plain": [
       "(-2.2108108108107904, 34.895, 12.668324727358165)"
      ]
     },
     "execution_count": 12,
     "metadata": {},
     "output_type": "execute_result"
    }
   ],
   "source": [
    "np.min(Tmp19),np.max(Tmp19),np.mean(Tmp19)"
   ]
  },
  {
   "cell_type": "code",
   "execution_count": 13,
   "id": "15b3e534",
   "metadata": {},
   "outputs": [
    {
     "data": {
      "text/plain": [
       "(array([ 801., 4051., 6536., 6980., 6158., 5294., 3156., 1624.,  358.,\n",
       "          82.]),\n",
       " array([-2.21081081,  1.49977027,  5.21035135,  8.92093243, 12.63151351,\n",
       "        16.34209459, 20.05267568, 23.76325676, 27.47383784, 31.18441892,\n",
       "        34.895     ]),\n",
       " <BarContainer object of 10 artists>)"
      ]
     },
     "execution_count": 13,
     "metadata": {},
     "output_type": "execute_result"
    },
    {
     "data": {
      "image/png": "[encoded data removed]",
      "text/plain": [
       "<Figure size 640x480 with 1 Axes>"
      ]
     },
     "metadata": {},
     "output_type": "display_data"
    }
   ],
   "source": [
    "plt.hist(Tmp19,bins=10)\n"
   ]
  },
  {
   "cell_type": "code",
   "execution_count": 14,
   "id": "40669ad4",
   "metadata": {},
   "outputs": [
    {
     "data": {
      "text/plain": [
       "{'whiskers': [<matplotlib.lines.Line2D at 0x22499b1e790>,\n",
       "  <matplotlib.lines.Line2D at 0x22499b2f190>,\n",
       "  <matplotlib.lines.Line2D at 0x22499903dd0>,\n",
       "  <matplotlib.lines.Line2D at 0x22499908890>],\n",
       " 'caps': [<matplotlib.lines.Line2D at 0x22499b2fd50>,\n",
       "  <matplotlib.lines.Line2D at 0x22499900890>,\n",
       "  <matplotlib.lines.Line2D at 0x22499909390>,\n",
       "  <matplotlib.lines.Line2D at 0x22499909e90>],\n",
       " 'boxes': [<matplotlib.lines.Line2D at 0x224995fe450>,\n",
       "  <matplotlib.lines.Line2D at 0x22499903350>],\n",
       " 'medians': [<matplotlib.lines.Line2D at 0x224999013d0>,\n",
       "  <matplotlib.lines.Line2D at 0x2249990aa10>],\n",
       " 'fliers': [<matplotlib.lines.Line2D at 0x22499902910>,\n",
       "  <matplotlib.lines.Line2D at 0x22499909950>],\n",
       " 'means': [<matplotlib.lines.Line2D at 0x22499901ed0>,\n",
       "  <matplotlib.lines.Line2D at 0x2249990a890>]}"
      ]
     },
     "execution_count": 14,
     "metadata": {},
     "output_type": "execute_result"
    },
    {
     "data": {
      "image/png": "[encoded data removed]",
      "text/plain": [
       "<Figure size 640x480 with 1 Axes>"
      ]
     },
     "metadata": {},
     "output_type": "display_data"
    }
   ],
   "source": [
    "plt.boxplot([Tmp16,Tmp19],showmeans=True,labels=['Température 2016','Température 2019'])"
   ]
  },
  {
   "cell_type": "code",
   "execution_count": null,
   "id": "9bcb3c8c",
   "metadata": {},
   "outputs": [],
   "source": []
  },
  {
   "cell_type": "code",
   "execution_count": null,
   "id": "94a399e8",
   "metadata": {},
   "outputs": [],
   "source": []
  },
  {
   "cell_type": "code",
   "execution_count": null,
   "id": "fc91464b",
   "metadata": {},
   "outputs": [],
   "source": []
  },
  {
   "cell_type": "code",
   "execution_count": null,
   "id": "b11490e1",
   "metadata": {},
   "outputs": [],
   "source": []
  },
  {
   "cell_type": "code",
   "execution_count": 15,
   "id": "9b74d2a3",
   "metadata": {},
   "outputs": [
    {
     "data": {
      "text/plain": [
       "array([932.5575, 912.7485, 906.848 , ..., 661.934 , 701.61  , 707.0325])"
      ]
     },
     "execution_count": 15,
     "metadata": {},
     "output_type": "execute_result"
    }
   ],
   "source": [
    "CO2_16=data3['EmissionCO2'].to_numpy()\n",
    "CO2_16"
   ]
  },
  {
   "cell_type": "code",
   "execution_count": 16,
   "id": "9eb3cbb7",
   "metadata": {},
   "outputs": [
    {
     "data": {
      "text/plain": [
       "(152.348, 5143.765, 1276.913740933479)"
      ]
     },
     "execution_count": 16,
     "metadata": {},
     "output_type": "execute_result"
    }
   ],
   "source": [
    "np.min(CO2_16),np.max(CO2_16),np.mean(CO2_16)"
   ]
  },
  {
   "cell_type": "code",
   "execution_count": 17,
   "id": "3177fd93",
   "metadata": {},
   "outputs": [
    {
     "data": {
      "text/plain": [
       "(array([6.9340e+03, 6.2310e+03, 1.0512e+04, 9.9030e+03, 8.6280e+03,\n",
       "        7.8770e+03, 7.5930e+03, 6.4980e+03, 5.4200e+03, 4.2730e+03,\n",
       "        4.0620e+03, 3.6950e+03, 2.8650e+03, 2.4840e+03, 1.9490e+03,\n",
       "        1.7670e+03, 1.4970e+03, 1.2420e+03, 8.9100e+02, 6.3600e+02,\n",
       "        3.7300e+02, 2.2800e+02, 1.6300e+02, 9.3000e+01, 7.1000e+01,\n",
       "        3.3000e+01, 3.3000e+01, 2.3000e+01, 1.0000e+01, 1.0000e+00]),\n",
       " array([ 152.348     ,  318.72856667,  485.10913333,  651.4897    ,\n",
       "         817.87026667,  984.25083333, 1150.6314    , 1317.01196667,\n",
       "        1483.39253333, 1649.7731    , 1816.15366667, 1982.53423333,\n",
       "        2148.9148    , 2315.29536667, 2481.67593333, 2648.0565    ,\n",
       "        2814.43706667, 2980.81763333, 3147.1982    , 3313.57876667,\n",
       "        3479.95933333, 3646.3399    , 3812.72046667, 3979.10103333,\n",
       "        4145.4816    , 4311.86216667, 4478.24273333, 4644.6233    ,\n",
       "        4811.00386667, 4977.38443333, 5143.765     ]),\n",
       " <BarContainer object of 30 artists>)"
      ]
     },
     "execution_count": 17,
     "metadata": {},
     "output_type": "execute_result"
    },
    {
     "data": {
      "image/png": "[encoded data removed]",
      "text/plain": [
       "<Figure size 640x480 with 1 Axes>"
      ]
     },
     "metadata": {},
     "output_type": "display_data"
    }
   ],
   "source": [
    "plt.hist(CO2_16,bins=30)"
   ]
  },
  {
   "cell_type": "code",
   "execution_count": 18,
   "id": "529698f4",
   "metadata": {},
   "outputs": [
    {
     "ename": "NameError",
     "evalue": "name 'CO2' is not defined",
     "output_type": "error",
     "traceback": [
      "\u001b[1;31m---------------------------------------------------------------------------\u001b[0m",
      "\u001b[1;31mNameError\u001b[0m                                 Traceback (most recent call last)",
      "Cell \u001b[1;32mIn[18], line 1\u001b[0m\n\u001b[1;32m----> 1\u001b[0m plt\u001b[38;5;241m.\u001b[39mboxplot([CO2],showmeans\u001b[38;5;241m=\u001b[39m\u001b[38;5;28;01mTrue\u001b[39;00m,labels\u001b[38;5;241m=\u001b[39m[\u001b[38;5;124m'\u001b[39m\u001b[38;5;124mEmissionCO2\u001b[39m\u001b[38;5;124m'\u001b[39m])\n",
      "\u001b[1;31mNameError\u001b[0m: name 'CO2' is not defined"
     ]
    }
   ],
   "source": [
    "plt.boxplot([CO2],showmeans=True,labels=['EmissionCO2'])"
   ]
  },
  {
   "cell_type": "code",
   "execution_count": null,
   "id": "7b1863f3",
   "metadata": {},
   "outputs": [],
   "source": []
  },
  {
   "cell_type": "code",
   "execution_count": null,
   "id": "9b6f9895",
   "metadata": {},
   "outputs": [],
   "source": []
  }
 ],
 "metadata": {
  "kernelspec": {
   "display_name": "Python 3 (ipykernel)",
   "language": "python",
   "name": "python3"
  },
  "language_info": {
   "codemirror_mode": {
    "name": "ipython",
    "version": 3
   },
   "file_extension": ".py",
   "mimetype": "text/x-python",
   "name": "python",
   "nbconvert_exporter": "python",
   "pygments_lexer": "ipython3",
   "version": "3.11.4"
  }
 },
 "nbformat": 4,
 "nbformat_minor": 5
}
