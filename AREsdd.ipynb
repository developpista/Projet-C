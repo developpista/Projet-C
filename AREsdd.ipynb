{
 "cells": [
  {
   "cell_type": "code",
   "execution_count": 4,
   "id": "4d903795",
   "metadata": {},
   "outputs": [],
   "source": [
    "import pandas as pd\n",
    "import numpy as np\n",
    "import matplotlib.pyplot as plt\n",
    "\n"
   ]
  },
  {
   "cell_type": "code",
   "execution_count": 5,
   "id": "3a3a0b06",
   "metadata": {},
   "outputs": [],
   "source": [
    "data=pd.read_csv(\"benchmark.csv\")"
   ]
  },
  {
   "cell_type": "code",
   "execution_count": 6,
   "id": "0eaba4a3",
   "metadata": {},
   "outputs": [
    {
     "data": {
      "text/html": [
       "<div>\n",
       "<style scoped>\n",
       "    .dataframe tbody tr th:only-of-type {\n",
       "        vertical-align: middle;\n",
       "    }\n",
       "\n",
       "    .dataframe tbody tr th {\n",
       "        vertical-align: top;\n",
       "    }\n",
       "\n",
       "    .dataframe thead th {\n",
       "        text-align: right;\n",
       "    }\n",
       "</style>\n",
       "<table border=\"1\" class=\"dataframe\">\n",
       "  <thead>\n",
       "    <tr style=\"text-align: right;\">\n",
       "      <th></th>\n",
       "      <th>DateTime</th>\n",
       "      <th>MixProdElec</th>\n",
       "    </tr>\n",
       "  </thead>\n",
       "  <tbody>\n",
       "    <tr>\n",
       "      <th>0</th>\n",
       "      <td>2019-01-01 00:00:00</td>\n",
       "      <td>Normal</td>\n",
       "    </tr>\n",
       "    <tr>\n",
       "      <th>1</th>\n",
       "      <td>2019-01-01 00:30:00</td>\n",
       "      <td>Normal</td>\n",
       "    </tr>\n",
       "    <tr>\n",
       "      <th>2</th>\n",
       "      <td>2019-01-01 01:00:00</td>\n",
       "      <td>Normal</td>\n",
       "    </tr>\n",
       "    <tr>\n",
       "      <th>3</th>\n",
       "      <td>2019-01-01 01:30:00</td>\n",
       "      <td>Normal</td>\n",
       "    </tr>\n",
       "    <tr>\n",
       "      <th>4</th>\n",
       "      <td>2019-01-01 02:00:00</td>\n",
       "      <td>Normal</td>\n",
       "    </tr>\n",
       "    <tr>\n",
       "      <th>...</th>\n",
       "      <td>...</td>\n",
       "      <td>...</td>\n",
       "    </tr>\n",
       "    <tr>\n",
       "      <th>35035</th>\n",
       "      <td>2021-12-31 21:30:00</td>\n",
       "      <td>Normal</td>\n",
       "    </tr>\n",
       "    <tr>\n",
       "      <th>35036</th>\n",
       "      <td>2021-12-31 22:00:00</td>\n",
       "      <td>Normal</td>\n",
       "    </tr>\n",
       "    <tr>\n",
       "      <th>35037</th>\n",
       "      <td>2021-12-31 22:30:00</td>\n",
       "      <td>Normal</td>\n",
       "    </tr>\n",
       "    <tr>\n",
       "      <th>35038</th>\n",
       "      <td>2021-12-31 23:00:00</td>\n",
       "      <td>Normal</td>\n",
       "    </tr>\n",
       "    <tr>\n",
       "      <th>35039</th>\n",
       "      <td>2021-12-31 23:30:00</td>\n",
       "      <td>Normal</td>\n",
       "    </tr>\n",
       "  </tbody>\n",
       "</table>\n",
       "<p>35040 rows × 2 columns</p>\n",
       "</div>"
      ],
      "text/plain": [
       "                  DateTime MixProdElec\n",
       "0      2019-01-01 00:00:00      Normal\n",
       "1      2019-01-01 00:30:00      Normal\n",
       "2      2019-01-01 01:00:00      Normal\n",
       "3      2019-01-01 01:30:00      Normal\n",
       "4      2019-01-01 02:00:00      Normal\n",
       "...                    ...         ...\n",
       "35035  2021-12-31 21:30:00      Normal\n",
       "35036  2021-12-31 22:00:00      Normal\n",
       "35037  2021-12-31 22:30:00      Normal\n",
       "35038  2021-12-31 23:00:00      Normal\n",
       "35039  2021-12-31 23:30:00      Normal\n",
       "\n",
       "[35040 rows x 2 columns]"
      ]
     },
     "execution_count": 6,
     "metadata": {},
     "output_type": "execute_result"
    }
   ],
   "source": [
    "data"
   ]
  },
  {
   "cell_type": "code",
   "execution_count": 7,
   "id": "4330ad56",
   "metadata": {},
   "outputs": [
    {
     "data": {
      "text/plain": [
       "35040"
      ]
     },
     "execution_count": 7,
     "metadata": {},
     "output_type": "execute_result"
    }
   ],
   "source": [
    "n=len(data)\n",
    "n"
   ]
  },
  {
   "cell_type": "code",
   "execution_count": 8,
   "id": "d418f631",
   "metadata": {},
   "outputs": [
    {
     "data": {
      "text/html": [
       "<div>\n",
       "<style scoped>\n",
       "    .dataframe tbody tr th:only-of-type {\n",
       "        vertical-align: middle;\n",
       "    }\n",
       "\n",
       "    .dataframe tbody tr th {\n",
       "        vertical-align: top;\n",
       "    }\n",
       "\n",
       "    .dataframe thead th {\n",
       "        text-align: right;\n",
       "    }\n",
       "</style>\n",
       "<table border=\"1\" class=\"dataframe\">\n",
       "  <thead>\n",
       "    <tr style=\"text-align: right;\">\n",
       "      <th></th>\n",
       "      <th>DateTime</th>\n",
       "      <th>MixProdElec</th>\n",
       "      <th>EmissionCO2</th>\n",
       "      <th>PositionDansAnnee</th>\n",
       "      <th>Annee</th>\n",
       "      <th>Mois</th>\n",
       "      <th>DemiHeure</th>\n",
       "      <th>Jour</th>\n",
       "      <th>JourFerie</th>\n",
       "      <th>JourFerieType</th>\n",
       "      <th>VacancesZoneA</th>\n",
       "      <th>VacancesZoneB</th>\n",
       "      <th>VacancesZoneC</th>\n",
       "      <th>Temperature</th>\n",
       "      <th>Nebulosity</th>\n",
       "      <th>Humidity</th>\n",
       "      <th>WindSpeed</th>\n",
       "      <th>Precipitation</th>\n",
       "    </tr>\n",
       "  </thead>\n",
       "  <tbody>\n",
       "    <tr>\n",
       "      <th>0</th>\n",
       "      <td>2016-01-01 00:00:00</td>\n",
       "      <td>Normal</td>\n",
       "      <td>932.5575</td>\n",
       "      <td>0.000000</td>\n",
       "      <td>2016</td>\n",
       "      <td>janvier</td>\n",
       "      <td>0</td>\n",
       "      <td>vendredi</td>\n",
       "      <td>True</td>\n",
       "      <td>1janvier</td>\n",
       "      <td>True</td>\n",
       "      <td>True</td>\n",
       "      <td>True</td>\n",
       "      <td>6.470270</td>\n",
       "      <td>88.761905</td>\n",
       "      <td>91.216216</td>\n",
       "      <td>2.264865</td>\n",
       "      <td>-0.013514</td>\n",
       "    </tr>\n",
       "    <tr>\n",
       "      <th>1</th>\n",
       "      <td>2016-01-01 00:30:00</td>\n",
       "      <td>Normal</td>\n",
       "      <td>912.7485</td>\n",
       "      <td>0.000057</td>\n",
       "      <td>2016</td>\n",
       "      <td>janvier</td>\n",
       "      <td>1</td>\n",
       "      <td>vendredi</td>\n",
       "      <td>True</td>\n",
       "      <td>1janvier</td>\n",
       "      <td>True</td>\n",
       "      <td>True</td>\n",
       "      <td>True</td>\n",
       "      <td>6.324798</td>\n",
       "      <td>88.557998</td>\n",
       "      <td>91.466505</td>\n",
       "      <td>2.226276</td>\n",
       "      <td>-0.010407</td>\n",
       "    </tr>\n",
       "    <tr>\n",
       "      <th>2</th>\n",
       "      <td>2016-01-01 01:00:00</td>\n",
       "      <td>Normal</td>\n",
       "      <td>906.8480</td>\n",
       "      <td>0.000114</td>\n",
       "      <td>2016</td>\n",
       "      <td>janvier</td>\n",
       "      <td>2</td>\n",
       "      <td>vendredi</td>\n",
       "      <td>True</td>\n",
       "      <td>1janvier</td>\n",
       "      <td>True</td>\n",
       "      <td>True</td>\n",
       "      <td>True</td>\n",
       "      <td>6.179325</td>\n",
       "      <td>88.354090</td>\n",
       "      <td>91.716794</td>\n",
       "      <td>2.187688</td>\n",
       "      <td>-0.007300</td>\n",
       "    </tr>\n",
       "    <tr>\n",
       "      <th>3</th>\n",
       "      <td>2016-01-01 01:30:00</td>\n",
       "      <td>Normal</td>\n",
       "      <td>903.3600</td>\n",
       "      <td>0.000171</td>\n",
       "      <td>2016</td>\n",
       "      <td>janvier</td>\n",
       "      <td>3</td>\n",
       "      <td>vendredi</td>\n",
       "      <td>True</td>\n",
       "      <td>1janvier</td>\n",
       "      <td>True</td>\n",
       "      <td>True</td>\n",
       "      <td>True</td>\n",
       "      <td>6.033853</td>\n",
       "      <td>88.150183</td>\n",
       "      <td>91.967082</td>\n",
       "      <td>2.149099</td>\n",
       "      <td>-0.004193</td>\n",
       "    </tr>\n",
       "    <tr>\n",
       "      <th>4</th>\n",
       "      <td>2016-01-01 02:00:00</td>\n",
       "      <td>Normal</td>\n",
       "      <td>892.4800</td>\n",
       "      <td>0.000228</td>\n",
       "      <td>2016</td>\n",
       "      <td>janvier</td>\n",
       "      <td>4</td>\n",
       "      <td>vendredi</td>\n",
       "      <td>True</td>\n",
       "      <td>1janvier</td>\n",
       "      <td>True</td>\n",
       "      <td>True</td>\n",
       "      <td>True</td>\n",
       "      <td>5.888381</td>\n",
       "      <td>87.946276</td>\n",
       "      <td>92.217371</td>\n",
       "      <td>2.110511</td>\n",
       "      <td>-0.001086</td>\n",
       "    </tr>\n",
       "    <tr>\n",
       "      <th>...</th>\n",
       "      <td>...</td>\n",
       "      <td>...</td>\n",
       "      <td>...</td>\n",
       "      <td>...</td>\n",
       "      <td>...</td>\n",
       "      <td>...</td>\n",
       "      <td>...</td>\n",
       "      <td>...</td>\n",
       "      <td>...</td>\n",
       "      <td>...</td>\n",
       "      <td>...</td>\n",
       "      <td>...</td>\n",
       "      <td>...</td>\n",
       "      <td>...</td>\n",
       "      <td>...</td>\n",
       "      <td>...</td>\n",
       "      <td>...</td>\n",
       "      <td>...</td>\n",
       "    </tr>\n",
       "    <tr>\n",
       "      <th>95980</th>\n",
       "      <td>2023-06-22 14:30:00</td>\n",
       "      <td>Decarbonne</td>\n",
       "      <td>652.9410</td>\n",
       "      <td>0.472915</td>\n",
       "      <td>2023</td>\n",
       "      <td>juin</td>\n",
       "      <td>29</td>\n",
       "      <td>jeudi</td>\n",
       "      <td>False</td>\n",
       "      <td>nonFerie</td>\n",
       "      <td>False</td>\n",
       "      <td>False</td>\n",
       "      <td>False</td>\n",
       "      <td>22.633165</td>\n",
       "      <td>88.472540</td>\n",
       "      <td>70.461876</td>\n",
       "      <td>4.740994</td>\n",
       "      <td>1.225101</td>\n",
       "    </tr>\n",
       "    <tr>\n",
       "      <th>95981</th>\n",
       "      <td>2023-06-22 15:00:00</td>\n",
       "      <td>Decarbonne</td>\n",
       "      <td>646.9470</td>\n",
       "      <td>0.472972</td>\n",
       "      <td>2023</td>\n",
       "      <td>juin</td>\n",
       "      <td>30</td>\n",
       "      <td>jeudi</td>\n",
       "      <td>False</td>\n",
       "      <td>nonFerie</td>\n",
       "      <td>False</td>\n",
       "      <td>False</td>\n",
       "      <td>False</td>\n",
       "      <td>22.692105</td>\n",
       "      <td>89.210526</td>\n",
       "      <td>69.815789</td>\n",
       "      <td>4.807692</td>\n",
       "      <td>0.994737</td>\n",
       "    </tr>\n",
       "    <tr>\n",
       "      <th>95982</th>\n",
       "      <td>2023-06-22 15:30:00</td>\n",
       "      <td>Decarbonne</td>\n",
       "      <td>661.9340</td>\n",
       "      <td>0.473029</td>\n",
       "      <td>2023</td>\n",
       "      <td>juin</td>\n",
       "      <td>31</td>\n",
       "      <td>jeudi</td>\n",
       "      <td>False</td>\n",
       "      <td>nonFerie</td>\n",
       "      <td>False</td>\n",
       "      <td>False</td>\n",
       "      <td>False</td>\n",
       "      <td>22.692105</td>\n",
       "      <td>89.210526</td>\n",
       "      <td>69.815789</td>\n",
       "      <td>4.807692</td>\n",
       "      <td>0.994737</td>\n",
       "    </tr>\n",
       "    <tr>\n",
       "      <th>95983</th>\n",
       "      <td>2023-06-22 16:00:00</td>\n",
       "      <td>Decarbonne</td>\n",
       "      <td>701.6100</td>\n",
       "      <td>0.473086</td>\n",
       "      <td>2023</td>\n",
       "      <td>juin</td>\n",
       "      <td>32</td>\n",
       "      <td>jeudi</td>\n",
       "      <td>False</td>\n",
       "      <td>nonFerie</td>\n",
       "      <td>False</td>\n",
       "      <td>False</td>\n",
       "      <td>False</td>\n",
       "      <td>22.692105</td>\n",
       "      <td>89.210526</td>\n",
       "      <td>69.815789</td>\n",
       "      <td>4.807692</td>\n",
       "      <td>0.994737</td>\n",
       "    </tr>\n",
       "    <tr>\n",
       "      <th>95984</th>\n",
       "      <td>2023-06-22 16:30:00</td>\n",
       "      <td>Decarbonne</td>\n",
       "      <td>707.0325</td>\n",
       "      <td>0.473143</td>\n",
       "      <td>2023</td>\n",
       "      <td>juin</td>\n",
       "      <td>33</td>\n",
       "      <td>jeudi</td>\n",
       "      <td>False</td>\n",
       "      <td>nonFerie</td>\n",
       "      <td>False</td>\n",
       "      <td>False</td>\n",
       "      <td>False</td>\n",
       "      <td>22.692105</td>\n",
       "      <td>89.210526</td>\n",
       "      <td>69.815789</td>\n",
       "      <td>4.807692</td>\n",
       "      <td>0.994737</td>\n",
       "    </tr>\n",
       "  </tbody>\n",
       "</table>\n",
       "<p>95985 rows × 18 columns</p>\n",
       "</div>"
      ],
      "text/plain": [
       "                  DateTime MixProdElec  EmissionCO2  PositionDansAnnee  Annee  \\\n",
       "0      2016-01-01 00:00:00      Normal     932.5575           0.000000   2016   \n",
       "1      2016-01-01 00:30:00      Normal     912.7485           0.000057   2016   \n",
       "2      2016-01-01 01:00:00      Normal     906.8480           0.000114   2016   \n",
       "3      2016-01-01 01:30:00      Normal     903.3600           0.000171   2016   \n",
       "4      2016-01-01 02:00:00      Normal     892.4800           0.000228   2016   \n",
       "...                    ...         ...          ...                ...    ...   \n",
       "95980  2023-06-22 14:30:00  Decarbonne     652.9410           0.472915   2023   \n",
       "95981  2023-06-22 15:00:00  Decarbonne     646.9470           0.472972   2023   \n",
       "95982  2023-06-22 15:30:00  Decarbonne     661.9340           0.473029   2023   \n",
       "95983  2023-06-22 16:00:00  Decarbonne     701.6100           0.473086   2023   \n",
       "95984  2023-06-22 16:30:00  Decarbonne     707.0325           0.473143   2023   \n",
       "\n",
       "          Mois  DemiHeure      Jour  JourFerie JourFerieType  VacancesZoneA  \\\n",
       "0      janvier          0  vendredi       True      1janvier           True   \n",
       "1      janvier          1  vendredi       True      1janvier           True   \n",
       "2      janvier          2  vendredi       True      1janvier           True   \n",
       "3      janvier          3  vendredi       True      1janvier           True   \n",
       "4      janvier          4  vendredi       True      1janvier           True   \n",
       "...        ...        ...       ...        ...           ...            ...   \n",
       "95980     juin         29     jeudi      False      nonFerie          False   \n",
       "95981     juin         30     jeudi      False      nonFerie          False   \n",
       "95982     juin         31     jeudi      False      nonFerie          False   \n",
       "95983     juin         32     jeudi      False      nonFerie          False   \n",
       "95984     juin         33     jeudi      False      nonFerie          False   \n",
       "\n",
       "       VacancesZoneB  VacancesZoneC  Temperature  Nebulosity   Humidity  \\\n",
       "0               True           True     6.470270   88.761905  91.216216   \n",
       "1               True           True     6.324798   88.557998  91.466505   \n",
       "2               True           True     6.179325   88.354090  91.716794   \n",
       "3               True           True     6.033853   88.150183  91.967082   \n",
       "4               True           True     5.888381   87.946276  92.217371   \n",
       "...              ...            ...          ...         ...        ...   \n",
       "95980          False          False    22.633165   88.472540  70.461876   \n",
       "95981          False          False    22.692105   89.210526  69.815789   \n",
       "95982          False          False    22.692105   89.210526  69.815789   \n",
       "95983          False          False    22.692105   89.210526  69.815789   \n",
       "95984          False          False    22.692105   89.210526  69.815789   \n",
       "\n",
       "       WindSpeed  Precipitation  \n",
       "0       2.264865      -0.013514  \n",
       "1       2.226276      -0.010407  \n",
       "2       2.187688      -0.007300  \n",
       "3       2.149099      -0.004193  \n",
       "4       2.110511      -0.001086  \n",
       "...          ...            ...  \n",
       "95980   4.740994       1.225101  \n",
       "95981   4.807692       0.994737  \n",
       "95982   4.807692       0.994737  \n",
       "95983   4.807692       0.994737  \n",
       "95984   4.807692       0.994737  \n",
       "\n",
       "[95985 rows x 18 columns]"
      ]
     },
     "execution_count": 8,
     "metadata": {},
     "output_type": "execute_result"
    }
   ],
   "source": [
    "data2=pd.read_csv(\"train.csv\")\n",
    "data2"
   ]
  },
  {
   "cell_type": "code",
   "execution_count": 9,
   "id": "abe46f7c",
   "metadata": {},
   "outputs": [],
   "source": [
    "MixProdElec=data2['MixProdElec'].to_numpy()"
   ]
  },
  {
   "cell_type": "code",
   "execution_count": 10,
   "id": "77dc02b0",
   "metadata": {},
   "outputs": [
    {
     "data": {
      "text/plain": [
       "array(['Normal', 'Normal', 'Normal', ..., 'Decarbonne', 'Decarbonne',\n",
       "       'Decarbonne'], dtype=object)"
      ]
     },
     "execution_count": 10,
     "metadata": {},
     "output_type": "execute_result"
    }
   ],
   "source": [
    "MixProdElec"
   ]
  },
  {
   "cell_type": "code",
   "execution_count": 11,
   "id": "2699f03f",
   "metadata": {},
   "outputs": [],
   "source": [
    "Mois=data2['Mois'].to_numpy()\n",
    "Jourférie=data2['JourFerie'].to_numpy()"
   ]
  },
  {
   "cell_type": "code",
   "execution_count": 12,
   "id": "26b51c51",
   "metadata": {},
   "outputs": [
    {
     "data": {
      "text/plain": [
       "array(['janvier', 'janvier', 'janvier', ..., 'juin', 'juin', 'juin'],\n",
       "      dtype=object)"
      ]
     },
     "execution_count": 12,
     "metadata": {},
     "output_type": "execute_result"
    }
   ],
   "source": [
    "Mois"
   ]
  },
  {
   "cell_type": "code",
   "execution_count": 13,
   "id": "a6b80f55",
   "metadata": {},
   "outputs": [],
   "source": [
    "n=len(MixProdElec)"
   ]
  },
  {
   "cell_type": "code",
   "execution_count": 14,
   "id": "7ec58e7b",
   "metadata": {},
   "outputs": [
    {
     "data": {
      "text/plain": [
       "95985"
      ]
     },
     "execution_count": 14,
     "metadata": {},
     "output_type": "execute_result"
    }
   ],
   "source": [
    "n"
   ]
  },
  {
   "cell_type": "code",
   "execution_count": 15,
   "id": "d32c7868",
   "metadata": {},
   "outputs": [
    {
     "data": {
      "text/html": [
       "<div>\n",
       "<style scoped>\n",
       "    .dataframe tbody tr th:only-of-type {\n",
       "        vertical-align: middle;\n",
       "    }\n",
       "\n",
       "    .dataframe tbody tr th {\n",
       "        vertical-align: top;\n",
       "    }\n",
       "\n",
       "    .dataframe thead th {\n",
       "        text-align: right;\n",
       "    }\n",
       "</style>\n",
       "<table border=\"1\" class=\"dataframe\">\n",
       "  <thead>\n",
       "    <tr style=\"text-align: right;\">\n",
       "      <th>col_0</th>\n",
       "      <th>août</th>\n",
       "      <th>avril</th>\n",
       "      <th>décembre</th>\n",
       "      <th>février</th>\n",
       "      <th>janvier</th>\n",
       "      <th>juillet</th>\n",
       "      <th>juin</th>\n",
       "      <th>mai</th>\n",
       "      <th>mars</th>\n",
       "      <th>novembre</th>\n",
       "      <th>octobre</th>\n",
       "      <th>septembre</th>\n",
       "    </tr>\n",
       "    <tr>\n",
       "      <th>row_0</th>\n",
       "      <th></th>\n",
       "      <th></th>\n",
       "      <th></th>\n",
       "      <th></th>\n",
       "      <th></th>\n",
       "      <th></th>\n",
       "      <th></th>\n",
       "      <th></th>\n",
       "      <th></th>\n",
       "      <th></th>\n",
       "      <th></th>\n",
       "      <th></th>\n",
       "    </tr>\n",
       "  </thead>\n",
       "  <tbody>\n",
       "    <tr>\n",
       "      <th>Carbonne</th>\n",
       "      <td>713</td>\n",
       "      <td>1315</td>\n",
       "      <td>4871</td>\n",
       "      <td>5203</td>\n",
       "      <td>5399</td>\n",
       "      <td>1401</td>\n",
       "      <td>325</td>\n",
       "      <td>223</td>\n",
       "      <td>4567</td>\n",
       "      <td>5280</td>\n",
       "      <td>3847</td>\n",
       "      <td>2188</td>\n",
       "    </tr>\n",
       "    <tr>\n",
       "      <th>Decarbonne</th>\n",
       "      <td>3083</td>\n",
       "      <td>4418</td>\n",
       "      <td>1094</td>\n",
       "      <td>677</td>\n",
       "      <td>981</td>\n",
       "      <td>2289</td>\n",
       "      <td>4620</td>\n",
       "      <td>6229</td>\n",
       "      <td>1497</td>\n",
       "      <td>458</td>\n",
       "      <td>1127</td>\n",
       "      <td>1700</td>\n",
       "    </tr>\n",
       "    <tr>\n",
       "      <th>Normal</th>\n",
       "      <td>3644</td>\n",
       "      <td>2907</td>\n",
       "      <td>1475</td>\n",
       "      <td>2280</td>\n",
       "      <td>2548</td>\n",
       "      <td>3750</td>\n",
       "      <td>3296</td>\n",
       "      <td>2476</td>\n",
       "      <td>2864</td>\n",
       "      <td>1462</td>\n",
       "      <td>2466</td>\n",
       "      <td>3312</td>\n",
       "    </tr>\n",
       "  </tbody>\n",
       "</table>\n",
       "</div>"
      ],
      "text/plain": [
       "col_0       août  avril  décembre  février  janvier  juillet  juin   mai  \\\n",
       "row_0                                                                      \n",
       "Carbonne     713   1315      4871     5203     5399     1401   325   223   \n",
       "Decarbonne  3083   4418      1094      677      981     2289  4620  6229   \n",
       "Normal      3644   2907      1475     2280     2548     3750  3296  2476   \n",
       "\n",
       "col_0       mars  novembre  octobre  septembre  \n",
       "row_0                                           \n",
       "Carbonne    4567      5280     3847       2188  \n",
       "Decarbonne  1497       458     1127       1700  \n",
       "Normal      2864      1462     2466       3312  "
      ]
     },
     "execution_count": 15,
     "metadata": {},
     "output_type": "execute_result"
    }
   ],
   "source": [
    "tab=pd.crosstab(MixProdElec,Mois)\n",
    "tab"
   ]
  },
  {
   "cell_type": "code",
   "execution_count": 28,
   "id": "a975ef61",
   "metadata": {},
   "outputs": [
    {
     "data": {
      "text/html": [
       "<div>\n",
       "<style scoped>\n",
       "    .dataframe tbody tr th:only-of-type {\n",
       "        vertical-align: middle;\n",
       "    }\n",
       "\n",
       "    .dataframe tbody tr th {\n",
       "        vertical-align: top;\n",
       "    }\n",
       "\n",
       "    .dataframe thead th {\n",
       "        text-align: right;\n",
       "    }\n",
       "</style>\n",
       "<table border=\"1\" class=\"dataframe\">\n",
       "  <thead>\n",
       "    <tr style=\"text-align: right;\">\n",
       "      <th>col_0</th>\n",
       "      <th>False</th>\n",
       "      <th>True</th>\n",
       "    </tr>\n",
       "    <tr>\n",
       "      <th>row_0</th>\n",
       "      <th></th>\n",
       "      <th></th>\n",
       "    </tr>\n",
       "  </thead>\n",
       "  <tbody>\n",
       "    <tr>\n",
       "      <th>Carbonne</th>\n",
       "      <td>35008</td>\n",
       "      <td>324</td>\n",
       "    </tr>\n",
       "    <tr>\n",
       "      <th>Decarbonne</th>\n",
       "      <td>26249</td>\n",
       "      <td>1924</td>\n",
       "    </tr>\n",
       "    <tr>\n",
       "      <th>Normal</th>\n",
       "      <td>31800</td>\n",
       "      <td>680</td>\n",
       "    </tr>\n",
       "  </tbody>\n",
       "</table>\n",
       "</div>"
      ],
      "text/plain": [
       "col_0       False  True \n",
       "row_0                   \n",
       "Carbonne    35008    324\n",
       "Decarbonne  26249   1924\n",
       "Normal      31800    680"
      ]
     },
     "execution_count": 28,
     "metadata": {},
     "output_type": "execute_result"
    }
   ],
   "source": [
    "tab2=pd.crosstab(MixProdElec,Jourférie)\n",
    "tab2"
   ]
  },
  {
   "cell_type": "code",
   "execution_count": null,
   "id": "c6836e7f",
   "metadata": {},
   "outputs": [],
   "source": []
  },
  {
   "cell_type": "code",
   "execution_count": 17,
   "id": "f99229fa",
   "metadata": {},
   "outputs": [
    {
     "data": {
      "text/html": [
       "<div>\n",
       "<style scoped>\n",
       "    .dataframe tbody tr th:only-of-type {\n",
       "        vertical-align: middle;\n",
       "    }\n",
       "\n",
       "    .dataframe tbody tr th {\n",
       "        vertical-align: top;\n",
       "    }\n",
       "\n",
       "    .dataframe thead th {\n",
       "        text-align: right;\n",
       "    }\n",
       "</style>\n",
       "<table border=\"1\" class=\"dataframe\">\n",
       "  <thead>\n",
       "    <tr style=\"text-align: right;\">\n",
       "      <th>col_0</th>\n",
       "      <th>août</th>\n",
       "      <th>avril</th>\n",
       "      <th>décembre</th>\n",
       "      <th>février</th>\n",
       "      <th>janvier</th>\n",
       "      <th>juillet</th>\n",
       "      <th>juin</th>\n",
       "      <th>mai</th>\n",
       "      <th>mars</th>\n",
       "      <th>novembre</th>\n",
       "      <th>octobre</th>\n",
       "      <th>septembre</th>\n",
       "    </tr>\n",
       "    <tr>\n",
       "      <th>row_0</th>\n",
       "      <th></th>\n",
       "      <th></th>\n",
       "      <th></th>\n",
       "      <th></th>\n",
       "      <th></th>\n",
       "      <th></th>\n",
       "      <th></th>\n",
       "      <th></th>\n",
       "      <th></th>\n",
       "      <th></th>\n",
       "      <th></th>\n",
       "      <th></th>\n",
       "    </tr>\n",
       "  </thead>\n",
       "  <tbody>\n",
       "    <tr>\n",
       "      <th>Carbonne</th>\n",
       "      <td>0.007428</td>\n",
       "      <td>0.013700</td>\n",
       "      <td>0.050748</td>\n",
       "      <td>0.054206</td>\n",
       "      <td>0.056248</td>\n",
       "      <td>0.014596</td>\n",
       "      <td>0.003386</td>\n",
       "      <td>0.002323</td>\n",
       "      <td>0.047580</td>\n",
       "      <td>0.055009</td>\n",
       "      <td>0.040079</td>\n",
       "      <td>0.022795</td>\n",
       "    </tr>\n",
       "    <tr>\n",
       "      <th>Decarbonne</th>\n",
       "      <td>0.032120</td>\n",
       "      <td>0.046028</td>\n",
       "      <td>0.011398</td>\n",
       "      <td>0.007053</td>\n",
       "      <td>0.010220</td>\n",
       "      <td>0.023847</td>\n",
       "      <td>0.048133</td>\n",
       "      <td>0.064896</td>\n",
       "      <td>0.015596</td>\n",
       "      <td>0.004772</td>\n",
       "      <td>0.011741</td>\n",
       "      <td>0.017711</td>\n",
       "    </tr>\n",
       "    <tr>\n",
       "      <th>Normal</th>\n",
       "      <td>0.037964</td>\n",
       "      <td>0.030286</td>\n",
       "      <td>0.015367</td>\n",
       "      <td>0.023754</td>\n",
       "      <td>0.026546</td>\n",
       "      <td>0.039069</td>\n",
       "      <td>0.034339</td>\n",
       "      <td>0.025796</td>\n",
       "      <td>0.029838</td>\n",
       "      <td>0.015232</td>\n",
       "      <td>0.025692</td>\n",
       "      <td>0.034505</td>\n",
       "    </tr>\n",
       "  </tbody>\n",
       "</table>\n",
       "</div>"
      ],
      "text/plain": [
       "col_0           août     avril  décembre   février   janvier   juillet  \\\n",
       "row_0                                                                    \n",
       "Carbonne    0.007428  0.013700  0.050748  0.054206  0.056248  0.014596   \n",
       "Decarbonne  0.032120  0.046028  0.011398  0.007053  0.010220  0.023847   \n",
       "Normal      0.037964  0.030286  0.015367  0.023754  0.026546  0.039069   \n",
       "\n",
       "col_0           juin       mai      mars  novembre   octobre  septembre  \n",
       "row_0                                                                    \n",
       "Carbonne    0.003386  0.002323  0.047580  0.055009  0.040079   0.022795  \n",
       "Decarbonne  0.048133  0.064896  0.015596  0.004772  0.011741   0.017711  \n",
       "Normal      0.034339  0.025796  0.029838  0.015232  0.025692   0.034505  "
      ]
     },
     "execution_count": 17,
     "metadata": {},
     "output_type": "execute_result"
    }
   ],
   "source": [
    "np.unique(MixProdElec)\n",
    "x=np.unique(MixProdElec)\n",
    "tab/n"
   ]
  },
  {
   "cell_type": "code",
   "execution_count": 18,
   "id": "7d5c0401",
   "metadata": {},
   "outputs": [
    {
     "data": {
      "text/plain": [
       "35332"
      ]
     },
     "execution_count": 18,
     "metadata": {},
     "output_type": "execute_result"
    }
   ],
   "source": [
    "n_carbonne=np.sum(tab.iloc[0])\n",
    "n_carbonne"
   ]
  },
  {
   "cell_type": "code",
   "execution_count": 19,
   "id": "9d7af1ee",
   "metadata": {},
   "outputs": [
    {
     "data": {
      "text/plain": [
       "28173"
      ]
     },
     "execution_count": 19,
     "metadata": {},
     "output_type": "execute_result"
    }
   ],
   "source": [
    "n_decarbonne=np.sum(tab.iloc[1])\n",
    "n_decarbonne"
   ]
  },
  {
   "cell_type": "code",
   "execution_count": 20,
   "id": "eaf251c7",
   "metadata": {},
   "outputs": [
    {
     "data": {
      "text/plain": [
       "32480"
      ]
     },
     "execution_count": 20,
     "metadata": {},
     "output_type": "execute_result"
    }
   ],
   "source": [
    "n_normal=np.sum(tab.iloc[2])\n",
    "n_normal"
   ]
  },
  {
   "cell_type": "code",
   "execution_count": 21,
   "id": "a94a0ab9",
   "metadata": {},
   "outputs": [
    {
     "data": {
      "text/plain": [
       "array([35332, 28173, 32480], dtype=int64)"
      ]
     },
     "execution_count": 21,
     "metadata": {},
     "output_type": "execute_result"
    }
   ],
   "source": [
    "n1=np.array([n_carbonne,n_decarbonne,n_normal])\n",
    "n1"
   ]
  },
  {
   "cell_type": "code",
   "execution_count": 22,
   "id": "7852ebda",
   "metadata": {},
   "outputs": [
    {
     "data": {
      "text/plain": [
       "([<matplotlib.patches.Wedge at 0x1f9a4ab4f50>,\n",
       "  <matplotlib.patches.Wedge at 0x1f9a4ab5ed0>,\n",
       "  <matplotlib.patches.Wedge at 0x1f9a4ab7110>],\n",
       " [Text(0.4428833576697579, 1.0069033377137855, 'Carbonne'),\n",
       "  Text(-1.0952110606581347, -0.10253161762151049, 'Decarbonne'),\n",
       "  Text(0.5348092544596585, -0.9612382958165494, 'Normal')])"
      ]
     },
     "execution_count": 22,
     "metadata": {},
     "output_type": "execute_result"
    },
    {
     "data": {
      "image/png": "[encoded data removed]",
      "text/plain": [
       "<Figure size 640x480 with 1 Axes>"
      ]
     },
     "metadata": {},
     "output_type": "display_data"
    }
   ],
   "source": [
    "plt.pie(n1,labels=x)"
   ]
  },
  {
   "cell_type": "code",
   "execution_count": 23,
   "id": "a562aea7",
   "metadata": {},
   "outputs": [
    {
     "data": {
      "text/plain": [
       "0.2935146116580716"
      ]
     },
     "execution_count": 23,
     "metadata": {},
     "output_type": "execute_result"
    }
   ],
   "source": [
    "py_decarbonne=n_decarbonne/n\n",
    "py_decarbonne"
   ]
  },
  {
   "cell_type": "code",
   "execution_count": 24,
   "id": "7c3efe7b",
   "metadata": {},
   "outputs": [
    {
     "data": {
      "text/plain": [
       "0.36809918216387977"
      ]
     },
     "execution_count": 24,
     "metadata": {},
     "output_type": "execute_result"
    }
   ],
   "source": [
    "py_carbonne=n_carbonne/n\n",
    "py_carbonne"
   ]
  },
  {
   "cell_type": "code",
   "execution_count": 25,
   "id": "4188d4f5",
   "metadata": {},
   "outputs": [
    {
     "data": {
      "text/plain": [
       "0.33838620617804865"
      ]
     },
     "execution_count": 25,
     "metadata": {},
     "output_type": "execute_result"
    }
   ],
   "source": [
    "py_normal=n_normal/n\n",
    "py_normal"
   ]
  },
  {
   "cell_type": "code",
   "execution_count": 26,
   "id": "ae91abc9",
   "metadata": {},
   "outputs": [
    {
     "data": {
      "text/plain": [
       "1.0"
      ]
     },
     "execution_count": 26,
     "metadata": {},
     "output_type": "execute_result"
    }
   ],
   "source": [
    "py_normal+py_carbonne+py_decarbonne"
   ]
  },
  {
   "cell_type": "code",
   "execution_count": 72,
   "id": "06492a9c",
   "metadata": {},
   "outputs": [
    {
     "data": {
      "text/plain": [
       "0.06829233663436624"
      ]
     },
     "execution_count": 72,
     "metadata": {},
     "output_type": "execute_result"
    }
   ],
   "source": [
    "PXTrueYDecarbonne=len(data2[(data2['JourFerie']== True) & (data2['MixProdElec']=='Decarbonne')])/len(data2[data2['MixProdElec']=='Decarbonne']) \n",
    "PXTrueYDecarbonne"
   ]
  },
  {
   "cell_type": "code",
   "execution_count": 73,
   "id": "c333d95e",
   "metadata": {},
   "outputs": [
    {
     "data": {
      "text/plain": [
       "0.9317076633656337"
      ]
     },
     "execution_count": 73,
     "metadata": {},
     "output_type": "execute_result"
    }
   ],
   "source": [
    "PXFalseYDecarbonne=len(data2[(data2['JourFerie']== False) & (data2['MixProdElec']=='Decarbonne')])/len(data2[data2['MixProdElec']=='Decarbonne'])\n",
    "PXFalseYDecarbonne"
   ]
  },
  {
   "cell_type": "code",
   "execution_count": 74,
   "id": "80030809",
   "metadata": {},
   "outputs": [
    {
     "data": {
      "text/plain": [
       "0.020935960591133004"
      ]
     },
     "execution_count": 74,
     "metadata": {},
     "output_type": "execute_result"
    }
   ],
   "source": [
    "PXTrueYNormal=len(data2[(data2['JourFerie']== True) & (data2['MixProdElec']=='Normal')])/len(data2[data2['MixProdElec']=='Normal'])\n",
    "PXTrueYNormal"
   ]
  },
  {
   "cell_type": "code",
   "execution_count": 76,
   "id": "a5d0816e",
   "metadata": {},
   "outputs": [
    {
     "data": {
      "text/plain": [
       "0.979064039408867"
      ]
     },
     "execution_count": 76,
     "metadata": {},
     "output_type": "execute_result"
    }
   ],
   "source": [
    "PXFalseYNormal=len(data2[(data2['JourFerie']== False) & (data2['MixProdElec']=='Normal')])/len(data2[data2['MixProdElec']=='Normal'])\n",
    "PXFalseYNormal"
   ]
  },
  {
   "cell_type": "code",
   "execution_count": 77,
   "id": "f1edd2e1",
   "metadata": {},
   "outputs": [
    {
     "data": {
      "text/plain": [
       "0.009170157364428846"
      ]
     },
     "execution_count": 77,
     "metadata": {},
     "output_type": "execute_result"
    }
   ],
   "source": [
    "PXTrueYCarbonne=len(data2[(data2['JourFerie']== True) & (data2['MixProdElec']=='Carbonne')])/len(data2[data2['MixProdElec']=='Carbonne'])\n",
    "PXTrueYCarbonne"
   ]
  },
  {
   "cell_type": "code",
   "execution_count": 79,
   "id": "f4564db4",
   "metadata": {},
   "outputs": [
    {
     "data": {
      "text/plain": [
       "0.9908298426355712"
      ]
     },
     "execution_count": 79,
     "metadata": {},
     "output_type": "execute_result"
    }
   ],
   "source": [
    "PXFalseYCarbonne=len(data2[(data2['JourFerie']== False) & (data2['MixProdElec']=='Carbonne')])/len(data2[data2['MixProdElec']=='Carbonne'])\n",
    "PXFalseYCarbonne"
   ]
  },
  {
   "cell_type": "code",
   "execution_count": null,
   "id": "93307391",
   "metadata": {},
   "outputs": [],
   "source": [
    "#P(Y=c|xj)=(p(xj|Y=c)*p(Y=c))/p(xj) \n",
    "#Pour trouver le classsificateur de Bayes, on compare les P(Y=c|xj) de tous les Y=c|xj, d'après la formule on peut négliger le \n",
    "#p(xj) car il suffit de comparer les numérateurs (ils sont égaux pour toutes les modalités considérées), de ce fait le \n",
    "#classificateur prend la modalité de Y la plus probable suivant les xj."
   ]
  },
  {
   "cell_type": "code",
   "execution_count": 88,
   "id": "fee376d0",
   "metadata": {},
   "outputs": [
    {
     "data": {
      "text/plain": [
       "(0.0033755274261603376, 0.0200447986664583, 0.007084440277126634)"
      ]
     },
     "execution_count": 88,
     "metadata": {},
     "output_type": "execute_result"
    }
   ],
   "source": [
    "py_carbonne*PXTrueYCarbonne,py_decarbonne*PXTrueYDecarbonne,py_normal*PXTrueYNormal"
   ]
  },
  {
   "cell_type": "code",
   "execution_count": 90,
   "id": "2b2956e1",
   "metadata": {},
   "outputs": [
    {
     "data": {
      "text/plain": [
       "0.0200447986664583"
      ]
     },
     "execution_count": 90,
     "metadata": {},
     "output_type": "execute_result"
    }
   ],
   "source": [
    "max(py_carbonne*PXTrueYCarbonne,py_decarbonne*PXTrueYDecarbonne,py_normal*PXTrueYNormal) \n",
    "#Le classificateur de Bayes pour xj=True est: Decarbonne car il a la probabilité la plus élevée(le max correspond à la valeur \n",
    "#de Decarbonne)"
   ]
  },
  {
   "cell_type": "code",
   "execution_count": 91,
   "id": "d035128a",
   "metadata": {},
   "outputs": [
    {
     "data": {
      "text/plain": [
       "(0.36472365473771945, 0.27346981299161327, 0.33130176590092203)"
      ]
     },
     "execution_count": 91,
     "metadata": {},
     "output_type": "execute_result"
    }
   ],
   "source": [
    "py_carbonne*PXFalseYCarbonne,py_decarbonne*PXFalseYDecarbonne,py_normal*PXFalseYNormal"
   ]
  },
  {
   "cell_type": "code",
   "execution_count": 92,
   "id": "c4248e6e",
   "metadata": {},
   "outputs": [
    {
     "data": {
      "text/plain": [
       "0.36472365473771945"
      ]
     },
     "execution_count": 92,
     "metadata": {},
     "output_type": "execute_result"
    }
   ],
   "source": [
    "max(py_carbonne*PXFalseYCarbonne,py_decarbonne*PXFalseYDecarbonne,py_normal*PXFalseYNormal)\n",
    "#Le classificateur de Bayes pour xj=False est: Carbonne car il a la probabilité la plus élevée(le max correspond à la valeur \n",
    "#de Carbonne)"
   ]
  },
  {
   "cell_type": "code",
   "execution_count": null,
   "id": "7594f438",
   "metadata": {},
   "outputs": [],
   "source": [
    "#Conclusion:\n",
    "#On constate qu'on peut déduire le classificateur de Bayes directement de la loi jointe pxy(X=x,Y=y) en prenant la valeur \n",
    "#maximale pour chaque xj."
   ]
  }
 ],
 "metadata": {
  "kernelspec": {
   "display_name": "Python 3 (ipykernel)",
   "language": "python",
   "name": "python3"
  },
  "language_info": {
   "codemirror_mode": {
    "name": "ipython",
    "version": 3
   },
   "file_extension": ".py",
   "mimetype": "text/x-python",
   "name": "python",
   "nbconvert_exporter": "python",
   "pygments_lexer": "ipython3",
   "version": "3.11.4"
  }
 },
 "nbformat": 4,
 "nbformat_minor": 5
}
